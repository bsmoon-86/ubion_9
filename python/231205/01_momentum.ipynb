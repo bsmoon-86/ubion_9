{
 "cells": [
  {
   "cell_type": "markdown",
   "metadata": {},
   "source": [
    "### 절대모멘텀\n",
    "- 주식 데이터를 로드 \n",
    "- 파생변수 'STD-YM' 생성 -> Date 컬럼의 년-월 추출하여 대입\n",
    "- 년-월 별 마지막 날의 데이터를 month_last_dt 데이터프레임에 대입\n",
    "- 전월의 수정주가 값을 가지는 파생변수를 생성\n",
    "- 전년도의 수정주가 값을 가지는 파생변수 생성\n",
    "- 전월, 전년도의 수정주가를 가지고 거래내역을 생성\n",
    "- 수익율 계산"
   ]
  },
  {
   "cell_type": "code",
   "execution_count": null,
   "metadata": {},
   "outputs": [],
   "source": [
    "import pandas as pd"
   ]
  },
  {
   "cell_type": "code",
   "execution_count": null,
   "metadata": {},
   "outputs": [],
   "source": [
    "df = pd.read_csv('../../csv/AMZN.csv', index_col='Date')"
   ]
  },
  {
   "cell_type": "code",
   "execution_count": null,
   "metadata": {},
   "outputs": [],
   "source": [
    "df.head()"
   ]
  },
  {
   "cell_type": "code",
   "execution_count": null,
   "metadata": {},
   "outputs": [],
   "source": [
    "# index를 시계열 변경 \n",
    "df.index = pd.to_datetime(df.index, format='%Y-%m-%d')\n"
   ]
  },
  {
   "cell_type": "code",
   "execution_count": null,
   "metadata": {},
   "outputs": [],
   "source": [
    "df['STD-YM'] = \"\""
   ]
  },
  {
   "cell_type": "code",
   "execution_count": null,
   "metadata": {},
   "outputs": [],
   "source": [
    "# STD-YM 컬럼을 생성 -> index에 있는 년-월 데이터를 추출\n",
    "for i in range(len(df.index)):\n",
    "    # i? -> 위치 값\n",
    "    df['STD-YM'][i] = df.index[i].strftime('%Y-%m')\n",
    "\n",
    "df.head()"
   ]
  },
  {
   "cell_type": "code",
   "execution_count": null,
   "metadata": {},
   "outputs": [],
   "source": [
    "df.drop('STD-YM', axis=1, inplace=True)"
   ]
  },
  {
   "cell_type": "code",
   "execution_count": null,
   "metadata": {},
   "outputs": [],
   "source": [
    "for i in df.index:\n",
    "    # i? index 값\n",
    "    df.loc[i, 'STD-YM'] = i.strftime('%Y-%m')\n",
    "\n",
    "df.head()"
   ]
  },
  {
   "cell_type": "code",
   "execution_count": null,
   "metadata": {},
   "outputs": [],
   "source": [
    "df.info()"
   ]
  },
  {
   "cell_type": "code",
   "execution_count": null,
   "metadata": {},
   "outputs": [],
   "source": [
    "df.drop('STD-YM', axis=1, inplace=True)"
   ]
  },
  {
   "cell_type": "code",
   "execution_count": null,
   "metadata": {},
   "outputs": [],
   "source": [
    "df['STD-YM'] = df.index.map(\n",
    "    lambda x : x.strftime('%Y-%m')\n",
    ")"
   ]
  },
  {
   "cell_type": "code",
   "execution_count": null,
   "metadata": {},
   "outputs": [],
   "source": [
    "df.head()"
   ]
  },
  {
   "cell_type": "code",
   "execution_count": null,
   "metadata": {},
   "outputs": [],
   "source": [
    "df2 = pd.read_csv('../../csv/AAPL.csv')\n",
    "df2.head()"
   ]
  },
  {
   "cell_type": "code",
   "execution_count": null,
   "metadata": {},
   "outputs": [],
   "source": [
    "from datetime import datetime"
   ]
  },
  {
   "cell_type": "code",
   "execution_count": null,
   "metadata": {},
   "outputs": [],
   "source": [
    "# '1980-12-12' -> 시계열데이터 변환 ( 시계열 1980-12-12 ) -> 문자열 변환 ( 1980-12 )\n",
    "df2['Date'].apply(\n",
    "    lambda x : datetime.strptime(x, '%Y-%m-%d').strftime('%Y-%m')\n",
    ")"
   ]
  },
  {
   "cell_type": "code",
   "execution_count": null,
   "metadata": {},
   "outputs": [],
   "source": [
    "df2['Date'] = pd.to_datetime(df2['Date'])"
   ]
  },
  {
   "cell_type": "code",
   "execution_count": null,
   "metadata": {},
   "outputs": [],
   "source": [
    "df2.info()"
   ]
  },
  {
   "cell_type": "code",
   "execution_count": null,
   "metadata": {},
   "outputs": [],
   "source": [
    "df2['Date'].dt.strftime('%Y-%m')"
   ]
  },
  {
   "cell_type": "code",
   "execution_count": null,
   "metadata": {},
   "outputs": [],
   "source": [
    "df.head()"
   ]
  },
  {
   "cell_type": "code",
   "execution_count": null,
   "metadata": {},
   "outputs": [],
   "source": [
    "# STD-YM 데이터에서 다음 행의 데이터와 오늘의 데이터가 다른경우 \n",
    "flag = df['STD-YM'].shift(-1) != df['STD-YM']\n",
    "df.loc[flag]"
   ]
  },
  {
   "cell_type": "code",
   "execution_count": null,
   "metadata": {},
   "outputs": [],
   "source": [
    "df.columns"
   ]
  },
  {
   "cell_type": "code",
   "execution_count": null,
   "metadata": {},
   "outputs": [],
   "source": [
    "test_df = pd.DataFrame()\n",
    "for i in range(len(df)-1):\n",
    "    if df.iloc[i, 6] != df.iloc[i+1, 6]:\n",
    "        data = df.iloc[[i]]\n",
    "        test_df = pd.concat([test_df, data], axis=0)\n",
    "\n",
    "test_df"
   ]
  },
  {
   "cell_type": "code",
   "execution_count": null,
   "metadata": {},
   "outputs": [],
   "source": [
    "# 반복문 -> STD-YM 데이터에서 중복된 데이터를 제거하고 고유의 데이터들만 생성\n",
    "list(\n",
    "    set(\n",
    "        df['STD-YM']\n",
    "    )\n",
    ")"
   ]
  },
  {
   "cell_type": "code",
   "execution_count": null,
   "metadata": {},
   "outputs": [],
   "source": [
    "ym_list = df['STD-YM'].unique()"
   ]
  },
  {
   "cell_type": "code",
   "execution_count": null,
   "metadata": {},
   "outputs": [],
   "source": [
    "ym_list[0]"
   ]
  },
  {
   "cell_type": "code",
   "execution_count": null,
   "metadata": {},
   "outputs": [],
   "source": [
    "df.loc[df['STD-YM'] == ym_list[0]].tail(1)"
   ]
  },
  {
   "cell_type": "code",
   "execution_count": null,
   "metadata": {},
   "outputs": [],
   "source": [
    "month_last_df = pd.DataFrame()\n",
    "\n",
    "for i in ym_list:\n",
    "    # print(i)\n",
    "    flag = df['STD-YM'] == i\n",
    "    data = df.loc[flag].tail(1)\n",
    "    month_last_df = pd.concat([month_last_df, data], axis=0)\n",
    "\n",
    "month_last_df"
   ]
  },
  {
   "cell_type": "code",
   "execution_count": 67,
   "metadata": {},
   "outputs": [],
   "source": [
    "# month_last_df에 파생변수 2개 생성\n",
    "# 전월의 수정주가 (BF_1M)\n",
    "# 전년도의 수정주가 (BF_12M)\n",
    "# 결측치는 모두 0으로 대체\n",
    "\n",
    "month_last_df['BF_1M'] = month_last_df['Adj Close'].shift(1).fillna(0)"
   ]
  },
  {
   "cell_type": "code",
   "execution_count": 70,
   "metadata": {},
   "outputs": [],
   "source": [
    "month_last_df['BF_12M'] = month_last_df['Adj Close'].shift(12).fillna(0)"
   ]
  },
  {
   "cell_type": "code",
   "execution_count": 71,
   "metadata": {},
   "outputs": [
    {
     "data": {
      "text/html": [
       "<div>\n",
       "<style scoped>\n",
       "    .dataframe tbody tr th:only-of-type {\n",
       "        vertical-align: middle;\n",
       "    }\n",
       "\n",
       "    .dataframe tbody tr th {\n",
       "        vertical-align: top;\n",
       "    }\n",
       "\n",
       "    .dataframe thead th {\n",
       "        text-align: right;\n",
       "    }\n",
       "</style>\n",
       "<table border=\"1\" class=\"dataframe\">\n",
       "  <thead>\n",
       "    <tr style=\"text-align: right;\">\n",
       "      <th></th>\n",
       "      <th>Open</th>\n",
       "      <th>High</th>\n",
       "      <th>Low</th>\n",
       "      <th>Close</th>\n",
       "      <th>Adj Close</th>\n",
       "      <th>Volume</th>\n",
       "      <th>STD-YM</th>\n",
       "      <th>BF_1M</th>\n",
       "      <th>BF_12M</th>\n",
       "    </tr>\n",
       "    <tr>\n",
       "      <th>Date</th>\n",
       "      <th></th>\n",
       "      <th></th>\n",
       "      <th></th>\n",
       "      <th></th>\n",
       "      <th></th>\n",
       "      <th></th>\n",
       "      <th></th>\n",
       "      <th></th>\n",
       "      <th></th>\n",
       "    </tr>\n",
       "  </thead>\n",
       "  <tbody>\n",
       "    <tr>\n",
       "      <th>1997-05-30</th>\n",
       "      <td>1.500000</td>\n",
       "      <td>1.510417</td>\n",
       "      <td>1.479167</td>\n",
       "      <td>1.500000</td>\n",
       "      <td>1.500000</td>\n",
       "      <td>2594400</td>\n",
       "      <td>1997-05</td>\n",
       "      <td>0.000000</td>\n",
       "      <td>0.0</td>\n",
       "    </tr>\n",
       "    <tr>\n",
       "      <th>1997-06-30</th>\n",
       "      <td>1.510417</td>\n",
       "      <td>1.598958</td>\n",
       "      <td>1.479167</td>\n",
       "      <td>1.541667</td>\n",
       "      <td>1.541667</td>\n",
       "      <td>2746800</td>\n",
       "      <td>1997-06</td>\n",
       "      <td>1.500000</td>\n",
       "      <td>0.0</td>\n",
       "    </tr>\n",
       "    <tr>\n",
       "      <th>1998-05-29</th>\n",
       "      <td>7.156250</td>\n",
       "      <td>7.416667</td>\n",
       "      <td>7.125000</td>\n",
       "      <td>7.343750</td>\n",
       "      <td>7.343750</td>\n",
       "      <td>8641200</td>\n",
       "      <td>1998-05</td>\n",
       "      <td>7.645833</td>\n",
       "      <td>1.5</td>\n",
       "    </tr>\n",
       "  </tbody>\n",
       "</table>\n",
       "</div>"
      ],
      "text/plain": [
       "                Open      High       Low     Close  Adj Close   Volume  \\\n",
       "Date                                                                     \n",
       "1997-05-30  1.500000  1.510417  1.479167  1.500000   1.500000  2594400   \n",
       "1997-06-30  1.510417  1.598958  1.479167  1.541667   1.541667  2746800   \n",
       "1998-05-29  7.156250  7.416667  7.125000  7.343750   7.343750  8641200   \n",
       "\n",
       "             STD-YM     BF_1M  BF_12M  \n",
       "Date                                   \n",
       "1997-05-30  1997-05  0.000000     0.0  \n",
       "1997-06-30  1997-06  1.500000     0.0  \n",
       "1998-05-29  1998-05  7.645833     1.5  "
      ]
     },
     "execution_count": 71,
     "metadata": {},
     "output_type": "execute_result"
    }
   ],
   "source": [
    "month_last_df.iloc[[0, 1, 12]]"
   ]
  },
  {
   "cell_type": "markdown",
   "metadata": {},
   "source": [
    "## 거래 내역 생성\n",
    "- 매수 조건\n",
    "    - 전월의 수정주가 / 전년도의 수정주가 - 1  의 값이 0보다 크고 무한대가 아닌경우"
   ]
  },
  {
   "cell_type": "code",
   "execution_count": 74,
   "metadata": {},
   "outputs": [],
   "source": [
    "import numpy as np"
   ]
  },
  {
   "cell_type": "code",
   "execution_count": 75,
   "metadata": {},
   "outputs": [
    {
     "name": "stdout",
     "output_type": "stream",
     "text": [
      "날짜 : 1997-05-30 00:00:00, 모멘텀 인덱스 : nan, flag : False, signal : \n",
      "날짜 : 1997-06-30 00:00:00, 모멘텀 인덱스 : inf, flag : False, signal : \n",
      "날짜 : 1997-07-31 00:00:00, 모멘텀 인덱스 : inf, flag : False, signal : \n",
      "날짜 : 1997-08-29 00:00:00, 모멘텀 인덱스 : inf, flag : False, signal : \n",
      "날짜 : 1997-09-30 00:00:00, 모멘텀 인덱스 : inf, flag : False, signal : \n",
      "날짜 : 1997-10-31 00:00:00, 모멘텀 인덱스 : inf, flag : False, signal : \n",
      "날짜 : 1997-11-28 00:00:00, 모멘텀 인덱스 : inf, flag : False, signal : \n",
      "날짜 : 1997-12-31 00:00:00, 모멘텀 인덱스 : inf, flag : False, signal : \n",
      "날짜 : 1998-01-30 00:00:00, 모멘텀 인덱스 : inf, flag : False, signal : \n",
      "날짜 : 1998-02-27 00:00:00, 모멘텀 인덱스 : inf, flag : False, signal : \n",
      "날짜 : 1998-03-31 00:00:00, 모멘텀 인덱스 : inf, flag : False, signal : \n",
      "날짜 : 1998-04-30 00:00:00, 모멘텀 인덱스 : inf, flag : False, signal : \n",
      "날짜 : 1998-05-29 00:00:00, 모멘텀 인덱스 : 4.0972219999999995, flag : True, signal : buy\n",
      "날짜 : 1998-06-30 00:00:00, 모멘텀 인덱스 : 3.7635124835648686, flag : True, signal : buy\n",
      "날짜 : 1998-07-31 00:00:00, 모멘텀 인덱스 : 5.9391314002269775, flag : True, signal : buy\n",
      "날짜 : 1998-08-31 00:00:00, 모멘텀 인덱스 : 6.902003042921615, flag : True, signal : buy\n",
      "날짜 : 1998-09-30 00:00:00, 모멘텀 인덱스 : 2.217286590748689, flag : True, signal : buy\n",
      "날짜 : 1998-10-30 00:00:00, 모멘텀 인덱스 : 2.659836174415487, flag : True, signal : buy\n",
      "날짜 : 1998-11-30 00:00:00, 모멘텀 인덱스 : 4.108585696969697, flag : True, signal : buy\n",
      "날짜 : 1998-12-31 00:00:00, 모멘텀 인덱스 : 5.373444406535729, flag : True, signal : buy\n",
      "날짜 : 1999-01-29 00:00:00, 모멘텀 인덱스 : 9.889830041367455, flag : True, signal : buy\n",
      "날짜 : 1999-02-26 00:00:00, 모멘텀 인덱스 : 8.112012513661687, flag : True, signal : buy\n",
      "날짜 : 1999-03-31 00:00:00, 모멘텀 인덱스 : 7.9879482574779725, flag : True, signal : buy\n",
      "날짜 : 1999-04-30 00:00:00, 모멘텀 인덱스 : 10.260218474559935, flag : True, signal : buy\n",
      "날짜 : 1999-05-28 00:00:00, 모멘텀 인덱스 : 10.714893617021277, flag : True, signal : buy\n",
      "날짜 : 1999-06-30 00:00:00, 모멘텀 인덱스 : 2.5714285714285716, flag : True, signal : buy\n",
      "날짜 : 1999-07-30 00:00:00, 모멘텀 인덱스 : 2.385569456976576, flag : True, signal : buy\n",
      "날짜 : 1999-08-31 00:00:00, 모멘텀 인덱스 : 2.5843284438048584, flag : True, signal : buy\n",
      "날짜 : 1999-09-30 00:00:00, 모멘텀 인덱스 : 2.3426652933541874, flag : True, signal : buy\n",
      "날짜 : 1999-10-29 00:00:00, 모멘텀 인덱스 : 2.7933762940069613, flag : True, signal : buy\n",
      "날짜 : 1999-11-30 00:00:00, 모멘텀 인덱스 : 1.20703125, flag : True, signal : buy\n",
      "날짜 : 1999-12-31 00:00:00, 모멘텀 인덱스 : 0.5887159137440394, flag : True, signal : buy\n",
      "날짜 : 2000-01-31 00:00:00, 모멘텀 인덱스 : 0.3019775521111705, flag : True, signal : buy\n",
      "날짜 : 2000-02-29 00:00:00, 모멘텀 인덱스 : 0.007804878048780495, flag : True, signal : buy\n",
      "날짜 : 2000-03-31 00:00:00, 모멘텀 인덱스 : -0.19999999999999996, flag : False, signal : \n",
      "날짜 : 2000-04-28 00:00:00, 모멘텀 인덱스 : -0.22121322193970216, flag : False, signal : \n",
      "날짜 : 2000-05-31 00:00:00, 모멘텀 인덱스 : -0.07052631578947366, flag : False, signal : \n",
      "날짜 : 2000-06-30 00:00:00, 모멘텀 인덱스 : -0.22777222777222772, flag : False, signal : \n",
      "날짜 : 2000-07-31 00:00:00, 모멘텀 인덱스 : -0.27420362273579013, flag : False, signal : \n",
      "날짜 : 2000-08-31 00:00:00, 모멘텀 인덱스 : -0.5155778894472363, flag : False, signal : \n",
      "날짜 : 2000-09-29 00:00:00, 모멘텀 인덱스 : -0.48084440969507425, flag : False, signal : \n",
      "날짜 : 2000-10-31 00:00:00, 모멘텀 인덱스 : -0.4557522123893806, flag : False, signal : \n",
      "날짜 : 2000-11-30 00:00:00, 모멘텀 인덱스 : -0.5694342395297576, flag : False, signal : \n",
      "날짜 : 2000-12-29 00:00:00, 모멘텀 인덱스 : -0.6756978653530378, flag : False, signal : \n",
      "날짜 : 2001-01-31 00:00:00, 모멘텀 인덱스 : -0.7589545014520813, flag : False, signal : \n",
      "날짜 : 2001-02-28 00:00:00, 모멘텀 인덱스 : -0.7486388384754992, flag : False, signal : \n",
      "날짜 : 2001-03-30 00:00:00, 모멘텀 인덱스 : -0.8479477611940298, flag : False, signal : \n",
      "날짜 : 2001-04-30 00:00:00, 모멘텀 인덱스 : -0.8146319365798415, flag : False, signal : \n",
      "날짜 : 2001-05-31 00:00:00, 모멘텀 인덱스 : -0.6733764553686934, flag : False, signal : \n",
      "날짜 : 2001-06-29 00:00:00, 모멘텀 인덱스 : -0.5403786299483649, flag : False, signal : \n",
      "날짜 : 2001-07-31 00:00:00, 모멘텀 인덱스 : -0.5302904564315353, flag : False, signal : \n",
      "날짜 : 2001-08-31 00:00:00, 모멘텀 인덱스 : -0.6990361445783133, flag : False, signal : \n",
      "날짜 : 2001-09-28 00:00:00, 모멘텀 인덱스 : -0.7674146341463415, flag : False, signal : \n",
      "날짜 : 2001-10-31 00:00:00, 모멘텀 인덱스 : -0.8369965870307168, flag : False, signal : \n",
      "날짜 : 2001-11-30 00:00:00, 모멘텀 인덱스 : -0.7172658227848101, flag : False, signal : \n",
      "날짜 : 2001-12-31 00:00:00, 모멘텀 인덱스 : -0.2726104417670683, flag : False, signal : \n",
      "날짜 : 2002-01-31 00:00:00, 모멘텀 인덱스 : -0.37501805054151627, flag : False, signal : \n",
      "날짜 : 2002-02-28 00:00:00, 모멘텀 인덱스 : 0.3928834355828221, flag : True, signal : buy\n",
      "날짜 : 2002-03-28 00:00:00, 모멘텀 인덱스 : 0.378299120234604, flag : True, signal : buy\n",
      "날짜 : 2002-04-30 00:00:00, 모멘텀 인덱스 : -0.09378960709759177, flag : False, signal : \n",
      "날짜 : 2002-05-31 00:00:00, 모멘텀 인덱스 : 0.0, flag : False, signal : \n",
      "날짜 : 2002-06-28 00:00:00, 모멘텀 인덱스 : 0.2883392226148409, flag : True, signal : buy\n",
      "날짜 : 2002-07-31 00:00:00, 모멘텀 인덱스 : 0.3010408326661329, flag : True, signal : buy\n",
      "날짜 : 2002-08-30 00:00:00, 모멘텀 인덱스 : 0.616331096196868, flag : True, signal : buy\n",
      "날짜 : 2002-09-30 00:00:00, 모멘텀 인덱스 : 1.5025125628140703, flag : True, signal : buy\n",
      "날짜 : 2002-10-31 00:00:00, 모멘텀 인덱스 : 1.2822349570200573, flag : True, signal : buy\n",
      "날짜 : 2002-11-29 00:00:00, 모멘텀 인덱스 : 0.7102474381625441, flag : True, signal : buy\n",
      "날짜 : 2002-12-31 00:00:00, 모멘텀 인덱스 : 1.1580406654343807, flag : True, signal : buy\n",
      "날짜 : 2003-01-31 00:00:00, 모멘텀 인덱스 : 0.3312190979563072, flag : True, signal : buy\n",
      "날짜 : 2003-02-28 00:00:00, 모멘텀 인덱스 : 0.5496453900709222, flag : True, signal : buy\n",
      "날짜 : 2003-03-31 00:00:00, 모멘텀 인덱스 : 0.5391608391608391, flag : True, signal : buy\n",
      "날짜 : 2003-04-30 00:00:00, 모멘텀 인덱스 : 0.5596165033183642, flag : True, signal : buy\n",
      "날짜 : 2003-05-30 00:00:00, 모멘텀 인덱스 : 0.5737795392210641, flag : True, signal : buy\n",
      "날짜 : 2003-06-30 00:00:00, 모멘텀 인덱스 : 1.2086153230769234, flag : True, signal : buy\n",
      "날짜 : 2003-07-31 00:00:00, 모멘텀 인덱스 : 1.5134948096885816, flag : True, signal : buy\n",
      "날짜 : 2003-08-29 00:00:00, 모멘텀 인덱스 : 1.7871485274431063, flag : True, signal : buy\n",
      "날짜 : 2003-09-30 00:00:00, 모멘텀 인덱스 : 1.9077212806026367, flag : True, signal : buy\n",
      "날짜 : 2003-10-31 00:00:00, 모멘텀 인덱스 : 1.501549457564594, flag : True, signal : buy\n",
      "날짜 : 2003-11-28 00:00:00, 모멘텀 인덱스 : 1.3310492505353317, flag : True, signal : buy\n",
      "날짜 : 2003-12-31 00:00:00, 모멘텀 인덱스 : 1.85706743552501, flag : True, signal : buy\n",
      "날짜 : 2004-01-30 00:00:00, 모멘텀 인덱스 : 1.4082379405034322, flag : True, signal : buy\n",
      "날짜 : 2004-02-27 00:00:00, 모멘텀 인덱스 : 1.2898683325761016, flag : True, signal : buy\n",
      "날짜 : 2004-03-31 00:00:00, 모멘텀 인덱스 : 0.6523241009479794, flag : True, signal : buy\n",
      "날짜 : 2004-04-30 00:00:00, 모멘텀 인덱스 : 0.5085394733865642, flag : True, signal : buy\n",
      "날짜 : 2004-05-28 00:00:00, 모멘텀 인덱스 : 0.21482304861585533, flag : True, signal : buy\n",
      "날짜 : 2004-06-30 00:00:00, 모멘텀 인덱스 : 0.3353524229074889, flag : True, signal : buy\n",
      "날짜 : 2004-07-30 00:00:00, 모멘텀 인덱스 : 0.3064361985215225, flag : True, signal : buy\n",
      "날짜 : 2004-08-31 00:00:00, 모멘텀 인덱스 : -0.15975824697754748, flag : False, signal : \n",
      "날짜 : 2004-09-30 00:00:00, 모멘텀 인덱스 : -0.21247162915548212, flag : False, signal : \n",
      "날짜 : 2004-10-29 00:00:00, 모멘텀 인덱스 : -0.24931102333272093, flag : False, signal : \n",
      "날짜 : 2004-11-30 00:00:00, 모멘텀 인덱스 : -0.3676116292827195, flag : False, signal : \n",
      "날짜 : 2004-12-31 00:00:00, 모멘텀 인덱스 : -0.24591408677145743, flag : False, signal : \n",
      "날짜 : 2005-01-31 00:00:00, 모멘텀 인덱스 : -0.12123017376070744, flag : False, signal : \n",
      "날짜 : 2005-02-28 00:00:00, 모멘텀 인덱스 : 0.0048826554235132935, flag : True, signal : buy\n",
      "날짜 : 2005-03-31 00:00:00, 모멘텀 인덱스 : -0.18715340081223197, flag : False, signal : \n",
      "날짜 : 2005-04-29 00:00:00, 모멘텀 인덱스 : -0.21399078963260498, flag : False, signal : \n",
      "날짜 : 2005-05-31 00:00:00, 모멘텀 인덱스 : -0.33278348453608253, flag : False, signal : \n",
      "날짜 : 2005-06-30 00:00:00, 모멘텀 인덱스 : -0.3472427078219592, flag : False, signal : \n",
      "날짜 : 2005-07-29 00:00:00, 모멘텀 인덱스 : -0.14979440646425513, flag : False, signal : \n",
      "날짜 : 2005-08-31 00:00:00, 모멘텀 인덱스 : 0.18379662254317308, flag : True, signal : buy\n",
      "날짜 : 2005-09-30 00:00:00, 모멘텀 인덱스 : 0.04503181485482588, flag : True, signal : buy\n",
      "날짜 : 2005-10-31 00:00:00, 모멘텀 인덱스 : 0.32727798630887817, flag : True, signal : buy\n",
      "날짜 : 2005-11-30 00:00:00, 모멘텀 인덱스 : 0.004536315524193535, flag : True, signal : buy\n",
      "날짜 : 2005-12-30 00:00:00, 모멘텀 인덱스 : 0.09415213153867419, flag : True, signal : buy\n",
      "날짜 : 2006-01-31 00:00:00, 모멘텀 인덱스 : 0.09093014597570215, flag : True, signal : buy\n",
      "날짜 : 2006-02-28 00:00:00, 모멘텀 인덱스 : 0.27401932916429783, flag : True, signal : buy\n",
      "날짜 : 2006-03-31 00:00:00, 모멘텀 인덱스 : 0.09250070032098034, flag : True, signal : buy\n",
      "날짜 : 2006-04-28 00:00:00, 모멘텀 인덱스 : 0.1288627277854535, flag : True, signal : buy\n",
      "날짜 : 2006-05-31 00:00:00, 모멘텀 인덱스 : -0.008448296730402483, flag : False, signal : \n",
      "날짜 : 2006-06-30 00:00:00, 모멘텀 인덱스 : 0.04593535811423366, flag : True, signal : buy\n",
      "날짜 : 2006-07-31 00:00:00, 모멘텀 인덱스 : -0.14330014869102337, flag : False, signal : \n",
      "날짜 : 2006-08-31 00:00:00, 모멘텀 인덱스 : -0.37025764940848593, flag : False, signal : \n",
      "날짜 : 2006-09-29 00:00:00, 모멘텀 인덱스 : -0.3194260335414135, flag : False, signal : \n",
      "날짜 : 2006-10-31 00:00:00, 모멘텀 인덱스 : -0.19417967400452396, flag : False, signal : \n",
      "날짜 : 2006-11-30 00:00:00, 모멘텀 인덱스 : -0.21399090412692745, flag : False, signal : \n",
      "날짜 : 2006-12-29 00:00:00, 모멘텀 인덱스 : -0.14443269800921743, flag : False, signal : \n",
      "날짜 : 2007-01-31 00:00:00, 모멘텀 인덱스 : -0.11958949129852736, flag : False, signal : \n",
      "날짜 : 2007-02-28 00:00:00, 모멘텀 인덱스 : 0.006143135847840098, flag : True, signal : buy\n",
      "날짜 : 2007-03-30 00:00:00, 모멘텀 인덱스 : 0.0714481267847833, flag : True, signal : buy\n",
      "날짜 : 2007-04-30 00:00:00, 모멘텀 인덱스 : 0.13007674325693652, flag : True, signal : buy\n",
      "날짜 : 2007-05-31 00:00:00, 모멘텀 인덱스 : 0.7720312114408783, flag : True, signal : buy\n",
      "날짜 : 2007-06-29 00:00:00, 모멘텀 인덱스 : 0.7874870475698037, flag : True, signal : buy\n",
      "날짜 : 2007-07-31 00:00:00, 모멘텀 인덱스 : 1.5440686702889055, flag : True, signal : buy\n",
      "날짜 : 2007-08-31 00:00:00, 모멘텀 인덱스 : 1.547518683100876, flag : True, signal : buy\n",
      "날짜 : 2007-09-28 00:00:00, 모멘텀 인덱스 : 1.4878582343666946, flag : True, signal : buy\n",
      "날짜 : 2007-10-31 00:00:00, 모멘텀 인덱스 : 1.445523812024153, flag : True, signal : buy\n",
      "날짜 : 2007-11-30 00:00:00, 모멘텀 인덱스 : 1.209965344571145, flag : True, signal : buy\n",
      "날짜 : 2007-12-31 00:00:00, 모멘텀 인덱스 : 1.2949822679924545, flag : True, signal : buy\n",
      "날짜 : 2008-01-31 00:00:00, 모멘텀 인덱스 : 1.4592514977038227, flag : True, signal : buy\n",
      "날짜 : 2008-02-29 00:00:00, 모멘텀 인덱스 : 0.9851813741742812, flag : True, signal : buy\n",
      "날짜 : 2008-03-31 00:00:00, 모멘텀 인덱스 : 0.620256330227285, flag : True, signal : buy\n",
      "날짜 : 2008-04-30 00:00:00, 모멘텀 인덱스 : 0.1625631937856451, flag : True, signal : buy\n",
      "날짜 : 2008-05-30 00:00:00, 모멘텀 인덱스 : 0.13725771098145367, flag : True, signal : buy\n",
      "날짜 : 2008-06-30 00:00:00, 모멘텀 인덱스 : 0.19310039800611611, flag : True, signal : buy\n",
      "날짜 : 2008-07-31 00:00:00, 모멘텀 인덱스 : -0.06633561158217971, flag : False, signal : \n",
      "날짜 : 2008-08-29 00:00:00, 모멘텀 인덱스 : -0.04467535754346852, flag : False, signal : \n",
      "날짜 : 2008-09-30 00:00:00, 모멘텀 인덱스 : -0.1324745435861613, flag : False, signal : \n",
      "날짜 : 2008-10-31 00:00:00, 모멘텀 인덱스 : -0.18384744399669228, flag : False, signal : \n",
      "날짜 : 2008-11-28 00:00:00, 모멘텀 인덱스 : -0.36793282614692635, flag : False, signal : \n",
      "날짜 : 2008-12-31 00:00:00, 모멘텀 인덱스 : -0.5390759773216318, flag : False, signal : \n",
      "날짜 : 2009-01-30 00:00:00, 모멘텀 인덱스 : -0.34002572741412074, flag : False, signal : \n",
      "날짜 : 2009-02-27 00:00:00, 모멘텀 인덱스 : -0.08763767507929765, flag : False, signal : \n",
      "날짜 : 2009-03-31 00:00:00, 모멘텀 인덱스 : -0.09130437203487918, flag : False, signal : \n",
      "날짜 : 2009-04-30 00:00:00, 모멘텀 인덱스 : -0.06600528040208364, flag : False, signal : \n",
      "날짜 : 2009-05-29 00:00:00, 모멘텀 인덱스 : -0.01347716196481874, flag : False, signal : \n",
      "날짜 : 2009-06-30 00:00:00, 모멘텀 인덱스 : 0.06354828682535696, flag : True, signal : buy\n",
      "날짜 : 2009-07-31 00:00:00, 모멘텀 인덱스 : 0.09588693193015096, flag : True, signal : buy\n",
      "날짜 : 2009-08-31 00:00:00, 모멘텀 인덱스 : 0.06125484621345989, flag : True, signal : buy\n",
      "날짜 : 2009-09-30 00:00:00, 모멘텀 인덱스 : 0.1158603596519967, flag : True, signal : buy\n",
      "날짜 : 2009-10-30 00:00:00, 모멘텀 인덱스 : 0.6310272141499926, flag : True, signal : buy\n",
      "날짜 : 2009-11-30 00:00:00, 모멘텀 인덱스 : 1.7824354851888642, flag : True, signal : buy\n",
      "날짜 : 2009-12-31 00:00:00, 모멘텀 인덱스 : 1.6503511437275962, flag : True, signal : buy\n",
      "날짜 : 2010-01-29 00:00:00, 모멘텀 인덱스 : 1.2869772866371982, flag : True, signal : buy\n",
      "날짜 : 2010-02-26 00:00:00, 모멘텀 인덱스 : 0.9356382476363905, flag : True, signal : buy\n",
      "날짜 : 2010-03-31 00:00:00, 모멘텀 인덱스 : 0.6122004190577226, flag : True, signal : buy\n",
      "날짜 : 2010-04-30 00:00:00, 모멘텀 인덱스 : 0.6861650404681461, flag : True, signal : buy\n",
      "날짜 : 2010-05-28 00:00:00, 모멘텀 인덱스 : 0.7579178037676062, flag : True, signal : buy\n",
      "날짜 : 2010-06-30 00:00:00, 모멘텀 인덱스 : 0.4996413220348399, flag : True, signal : buy\n",
      "날짜 : 2010-07-30 00:00:00, 모멘텀 인덱스 : 0.27402051599765587, flag : True, signal : buy\n",
      "날짜 : 2010-08-31 00:00:00, 모멘텀 인덱스 : 0.45202606350471575, flag : True, signal : buy\n",
      "날짜 : 2010-09-30 00:00:00, 모멘텀 인덱스 : 0.3370822693114581, flag : True, signal : buy\n",
      "날짜 : 2010-10-29 00:00:00, 모멘텀 인덱스 : 0.3219426028439123, flag : True, signal : buy\n",
      "날짜 : 2010-11-30 00:00:00, 모멘텀 인덱스 : 0.2157309332431483, flag : True, signal : buy\n",
      "날짜 : 2010-12-31 00:00:00, 모멘텀 인덱스 : 0.3038952481743904, flag : True, signal : buy\n",
      "날짜 : 2011-01-31 00:00:00, 모멘텀 인덱스 : 0.4352921956688558, flag : True, signal : buy\n",
      "날짜 : 2011-02-28 00:00:00, 모멘텀 인덱스 : 0.4327702376221243, flag : True, signal : buy\n",
      "날짜 : 2011-03-31 00:00:00, 모멘텀 인덱스 : 0.27634961990573426, flag : True, signal : buy\n",
      "날짜 : 2011-04-29 00:00:00, 모멘텀 인덱스 : 0.31385847641757225, flag : True, signal : buy\n",
      "날짜 : 2011-05-31 00:00:00, 모멘텀 인덱스 : 0.5607364862166149, flag : True, signal : buy\n",
      "날짜 : 2011-06-30 00:00:00, 모멘텀 인덱스 : 0.8002013399194337, flag : True, signal : buy\n",
      "날짜 : 2011-07-29 00:00:00, 모멘텀 인덱스 : 0.734583143053551, flag : True, signal : buy\n",
      "날짜 : 2011-08-31 00:00:00, 모멘텀 인덱스 : 0.7825843181513368, flag : True, signal : buy\n",
      "날짜 : 2011-09-30 00:00:00, 모멘텀 인덱스 : 0.37036800420690175, flag : True, signal : buy\n",
      "날짜 : 2011-10-31 00:00:00, 모멘텀 인덱스 : 0.3086606623170287, flag : True, signal : buy\n",
      "날짜 : 2011-11-30 00:00:00, 모멘텀 인덱스 : 0.2172748135897884, flag : True, signal : buy\n",
      "날짜 : 2011-12-30 00:00:00, 모멘텀 인덱스 : 0.06827773888888888, flag : True, signal : buy\n",
      "날짜 : 2012-01-31 00:00:00, 모멘텀 인덱스 : 0.02039617437158814, flag : True, signal : buy\n",
      "날짜 : 2012-02-29 00:00:00, 모멘텀 인덱스 : 0.12204980007125954, flag : True, signal : buy\n",
      "날짜 : 2012-03-30 00:00:00, 모멘텀 인덱스 : -0.0024426968732944587, flag : False, signal : \n",
      "날짜 : 2012-04-30 00:00:00, 모멘텀 인덱스 : 0.034216827886388135, flag : True, signal : buy\n",
      "날짜 : 2012-05-31 00:00:00, 모멘텀 인덱스 : 0.1790126170215811, flag : True, signal : buy\n",
      "날짜 : 2012-06-29 00:00:00, 모멘텀 인덱스 : 0.041175601712171606, flag : True, signal : buy\n",
      "날짜 : 2012-07-31 00:00:00, 모멘텀 인덱스 : 0.02619990066151545, flag : True, signal : buy\n",
      "날짜 : 2012-08-31 00:00:00, 모멘텀 인덱스 : 0.08395673157007355, flag : True, signal : buy\n",
      "날짜 : 2012-09-28 00:00:00, 모멘텀 인덱스 : 0.1481755935471598, flag : True, signal : buy\n",
      "날짜 : 2012-10-31 00:00:00, 모멘텀 인덱스 : 0.19113864903607913, flag : True, signal : buy\n",
      "날짜 : 2012-11-30 00:00:00, 모멘텀 인덱스 : 0.21113946371613834, flag : True, signal : buy\n",
      "날짜 : 2012-12-31 00:00:00, 모멘텀 인덱스 : 0.45609470978296796, flag : True, signal : buy\n",
      "날짜 : 2013-01-31 00:00:00, 모멘텀 인덱스 : 0.29021802314114353, flag : True, signal : buy\n",
      "날짜 : 2013-02-28 00:00:00, 모멘텀 인덱스 : 0.47754464380271977, flag : True, signal : buy\n",
      "날짜 : 2013-03-28 00:00:00, 모멘텀 인덱스 : 0.3049725718476266, flag : True, signal : buy\n",
      "날짜 : 2013-04-30 00:00:00, 모멘텀 인덱스 : 0.14915910692089107, flag : True, signal : buy\n",
      "날짜 : 2013-05-31 00:00:00, 모멘텀 인덱스 : 0.1920999165450208, flag : True, signal : buy\n",
      "날짜 : 2013-06-28 00:00:00, 모멘텀 인덱스 : 0.17889207325004408, flag : True, signal : buy\n",
      "날짜 : 2013-07-31 00:00:00, 모멘텀 인덱스 : 0.19027003184393432, flag : True, signal : buy\n",
      "날짜 : 2013-08-30 00:00:00, 모멘텀 인덱스 : 0.21327585349376332, flag : True, signal : buy\n",
      "날짜 : 2013-09-30 00:00:00, 모멘텀 인덱스 : 0.10482857528389422, flag : True, signal : buy\n",
      "날짜 : 2013-10-31 00:00:00, 모멘텀 인덱스 : 0.3424364135103972, flag : True, signal : buy\n",
      "날짜 : 2013-11-29 00:00:00, 모멘텀 인덱스 : 0.4442769080228892, flag : True, signal : buy\n",
      "날짜 : 2013-12-31 00:00:00, 모멘텀 인덱스 : 0.56901982239845, flag : True, signal : buy\n",
      "날짜 : 2014-01-31 00:00:00, 모멘텀 인덱스 : 0.5020339322033898, flag : True, signal : buy\n",
      "날짜 : 2014-02-28 00:00:00, 모멘텀 인덱스 : 0.3572861729676009, flag : True, signal : buy\n",
      "날짜 : 2014-03-31 00:00:00, 모멘텀 인덱스 : 0.3587752620651907, flag : True, signal : buy\n",
      "날짜 : 2014-04-30 00:00:00, 모멘텀 인덱스 : 0.32528268252064674, flag : True, signal : buy\n",
      "날짜 : 2014-05-30 00:00:00, 모멘텀 인덱스 : 0.12975479733633888, flag : True, signal : buy\n",
      "날짜 : 2014-06-30 00:00:00, 모멘텀 인덱스 : 0.1255356179514162, flag : True, signal : buy\n",
      "날짜 : 2014-07-31 00:00:00, 모멘텀 인덱스 : 0.07821525105167226, flag : True, signal : buy\n",
      "날짜 : 2014-08-29 00:00:00, 모멘텀 인덱스 : 0.11392261992615538, flag : True, signal : buy\n",
      "날짜 : 2014-09-30 00:00:00, 모멘텀 인덱스 : 0.08444214666507088, flag : True, signal : buy\n",
      "날짜 : 2014-10-31 00:00:00, 모멘텀 인덱스 : -0.11424881771900341, flag : False, signal : \n",
      "날짜 : 2014-11-28 00:00:00, 모멘텀 인덱스 : -0.22397237213521126, flag : False, signal : \n",
      "날짜 : 2014-12-31 00:00:00, 모멘텀 인덱스 : -0.15083124612582754, flag : False, signal : \n",
      "날짜 : 2015-01-30 00:00:00, 모멘텀 인덱스 : -0.1347681723227958, flag : False, signal : \n",
      "날짜 : 2015-02-27 00:00:00, 모멘텀 인덱스 : -0.02090584610484658, flag : False, signal : \n",
      "날짜 : 2015-03-31 00:00:00, 모멘텀 인덱스 : 0.13018405223688267, flag : True, signal : buy\n",
      "날짜 : 2015-04-30 00:00:00, 모멘텀 인덱스 : 0.22348995456729104, flag : True, signal : buy\n",
      "날짜 : 2015-05-29 00:00:00, 모멘텀 인덱스 : 0.3494801317989493, flag : True, signal : buy\n",
      "날짜 : 2015-06-30 00:00:00, 모멘텀 인덱스 : 0.32160235335181464, flag : True, signal : buy\n",
      "날짜 : 2015-07-31 00:00:00, 모멘텀 인덱스 : 0.3869133514461598, flag : True, signal : buy\n",
      "날짜 : 2015-08-31 00:00:00, 모멘텀 인덱스 : 0.5813768575023841, flag : True, signal : buy\n",
      "날짜 : 2015-09-30 00:00:00, 모멘텀 인덱스 : 0.5906525611546174, flag : True, signal : buy\n",
      "날짜 : 2015-10-30 00:00:00, 모멘텀 인덱스 : 0.6758005306167902, flag : True, signal : buy\n",
      "날짜 : 2015-11-30 00:00:00, 모멘텀 인덱스 : 0.8482754437628997, flag : True, signal : buy\n",
      "날짜 : 2015-12-31 00:00:00, 모멘텀 인덱스 : 1.1420975516269203, flag : True, signal : buy\n",
      "날짜 : 2016-01-29 00:00:00, 모멘텀 인덱스 : 0.9064395591527925, flag : True, signal : buy\n",
      "날짜 : 2016-02-29 00:00:00, 모멘텀 인덱스 : 0.5440866840899969, flag : True, signal : buy\n",
      "날짜 : 2016-03-31 00:00:00, 모멘텀 인덱스 : 0.48486968849981693, flag : True, signal : buy\n",
      "날짜 : 2016-04-29 00:00:00, 모멘텀 인덱스 : 0.4074636455200902, flag : True, signal : buy\n",
      "날짜 : 2016-05-31 00:00:00, 모멘텀 인덱스 : 0.5366819889022159, flag : True, signal : buy\n",
      "날짜 : 2016-06-30 00:00:00, 모멘텀 인덱스 : 0.665069420305185, flag : True, signal : buy\n",
      "날짜 : 2016-07-29 00:00:00, 모멘텀 인덱스 : 0.3347383436841924, flag : True, signal : buy\n",
      "날짜 : 2016-08-31 00:00:00, 모멘텀 인덱스 : 0.479478983422986, flag : True, signal : buy\n",
      "날짜 : 2016-09-30 00:00:00, 모멘텀 인덱스 : 0.5025883499602937, flag : True, signal : buy\n",
      "날짜 : 2016-10-31 00:00:00, 모멘텀 인덱스 : 0.33776955726718416, flag : True, signal : buy\n",
      "날짜 : 2016-11-30 00:00:00, 모멘텀 인덱스 : 0.18805659033796496, flag : True, signal : buy\n",
      "날짜 : 2016-12-30 00:00:00, 모멘텀 인덱스 : 0.11049133785472498, flag : True, signal : buy\n",
      "날짜 : 2017-01-31 00:00:00, 모멘텀 인덱스 : 0.2774616609880749, flag : True, signal : buy\n",
      "날짜 : 2017-02-28 00:00:00, 모멘텀 인덱스 : 0.49040749690843755, flag : True, signal : buy\n",
      "날짜 : 2017-03-31 00:00:00, 모멘텀 인덱스 : 0.423488910194169, flag : True, signal : buy\n",
      "날짜 : 2017-04-28 00:00:00, 모멘텀 인덱스 : 0.34407729303038725, flag : True, signal : buy\n",
      "날짜 : 2017-05-31 00:00:00, 모멘텀 인덱스 : 0.2797493298945548, flag : True, signal : buy\n",
      "날짜 : 2017-06-30 00:00:00, 모멘텀 인덱스 : 0.38987172235174894, flag : True, signal : buy\n",
      "날짜 : 2017-07-31 00:00:00, 모멘텀 인덱스 : 0.2756816628027614, flag : True, signal : buy\n",
      "날짜 : 2017-08-31 00:00:00, 모멘텀 인덱스 : 0.2842322321419084, flag : True, signal : buy\n",
      "날짜 : 2017-09-29 00:00:00, 모멘텀 인덱스 : 0.1711313352787649, flag : True, signal : buy\n",
      "날짜 : 2017-10-31 00:00:00, 모멘텀 인덱스 : 0.21717602425839777, flag : True, signal : buy\n",
      "날짜 : 2017-11-30 00:00:00, 모멘텀 인덱스 : 0.4725875250701297, flag : True, signal : buy\n",
      "날짜 : 2017-12-29 00:00:00, 모멘텀 인덱스 : 0.5692720176115327, flag : True, signal : buy\n",
      "날짜 : 2018-01-31 00:00:00, 모멘텀 인덱스 : 0.42015592291630455, flag : True, signal : buy\n",
      "날짜 : 2018-02-28 00:00:00, 모멘텀 인덱스 : 0.7169483725893024, flag : True, signal : buy\n",
      "날짜 : 2018-03-29 00:00:00, 모멘텀 인덱스 : 0.7060143800982657, flag : True, signal : buy\n",
      "날짜 : 2018-04-30 00:00:00, 모멘텀 인덱스 : 0.5647087878215848, flag : True, signal : buy\n",
      "날짜 : 2018-05-31 00:00:00, 모멘텀 인덱스 : 0.5746013682341062, flag : True, signal : buy\n",
      "날짜 : 2018-06-29 00:00:00, 모멘텀 인덱스 : 0.6834917303719008, flag : True, signal : buy\n",
      "날짜 : 2018-07-31 00:00:00, 모멘텀 인덱스 : 0.7208285236550374, flag : True, signal : buy\n",
      "날짜 : 2018-08-31 00:00:00, 모멘텀 인덱스 : 0.812604512036007, flag : True, signal : buy\n",
      "날짜 : 2018-09-28 00:00:00, 모멘텀 인덱스 : 1.0936287629345092, flag : True, signal : buy\n",
      "날짜 : 2018-10-31 00:00:00, 모멘텀 인덱스 : 0.812210433053975, flag : True, signal : buy\n",
      "날짜 : 2018-11-30 00:00:00, 모멘텀 인덱스 : 0.3579859868281283, flag : True, signal : buy\n",
      "날짜 : 2018-12-31 00:00:00, 모멘텀 인덱스 : 0.44524450042505626, flag : True, signal : buy\n",
      "날짜 : 2019-01-31 00:00:00, 모멘텀 인덱스 : 0.03520594633081142, flag : True, signal : buy\n",
      "날짜 : 2019-02-28 00:00:00, 모멘텀 인덱스 : 0.13638800336078027, flag : True, signal : buy\n",
      "날짜 : 2019-03-29 00:00:00, 모멘텀 인덱스 : 0.13299569867609118, flag : True, signal : buy\n",
      "날짜 : 2019-04-30 00:00:00, 모멘텀 인덱스 : 0.13703842868395855, flag : True, signal : buy\n",
      "날짜 : 2019-05-31 00:00:00, 모멘텀 인덱스 : 0.18218972883920692, flag : True, signal : buy\n",
      "날짜 : 2019-06-24 00:00:00, 모멘텀 인덱스 : 0.04428161832580346, flag : True, signal : buy\n"
     ]
    },
    {
     "name": "stderr",
     "output_type": "stream",
     "text": [
      "C:\\Users\\moons\\AppData\\Local\\Temp\\ipykernel_3572\\457790073.py:8: RuntimeWarning: invalid value encountered in scalar divide\n",
      "  momentum_index = month_last_df.loc[i, 'BF_1M'] / \\\n",
      "C:\\Users\\moons\\AppData\\Local\\Temp\\ipykernel_3572\\457790073.py:8: RuntimeWarning: divide by zero encountered in scalar divide\n",
      "  momentum_index = month_last_df.loc[i, 'BF_1M'] / \\\n"
     ]
    },
    {
     "data": {
      "text/plain": [
       "trade\n",
       "       5370\n",
       "buy     193\n",
       "Name: count, dtype: int64"
      ]
     },
     "execution_count": 75,
     "metadata": {},
     "output_type": "execute_result"
    }
   ],
   "source": [
    "# df 데이터프레임에 trade 컬럼을 생성해서 \"\"대입\n",
    "df['trade'] = \"\"\n",
    "\n",
    "for i in month_last_df.index:\n",
    "    signal = \"\"\n",
    "\n",
    "    # 절대 모멘텀 계산식\n",
    "    momentum_index = month_last_df.loc[i, 'BF_1M'] / \\\n",
    "        month_last_df.loc[i, 'BF_12M'] - 1\n",
    "    # print(momentum_index)\n",
    "    flag = True if( (momentum_index > 0) & (momentum_index != np.inf)) else False\n",
    "\n",
    "    if flag:\n",
    "        signal = 'buy'\n",
    "    print(f'날짜 : {i}, 모멘텀 인덱스 : {momentum_index}, flag : {flag}, signal : {signal}')\n",
    "    df.loc[i, 'trade'] = signal\n",
    "\n",
    "df['trade'].value_counts()"
   ]
  },
  {
   "cell_type": "code",
   "execution_count": null,
   "metadata": {},
   "outputs": [],
   "source": []
  }
 ],
 "metadata": {
  "kernelspec": {
   "display_name": "Python 3",
   "language": "python",
   "name": "python3"
  },
  "language_info": {
   "codemirror_mode": {
    "name": "ipython",
    "version": 3
   },
   "file_extension": ".py",
   "mimetype": "text/x-python",
   "name": "python",
   "nbconvert_exporter": "python",
   "pygments_lexer": "ipython3",
   "version": "3.11.1"
  }
 },
 "nbformat": 4,
 "nbformat_minor": 2
}
