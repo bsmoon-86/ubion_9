{
 "cells": [
  {
   "cell_type": "code",
   "execution_count": 7,
   "metadata": {},
   "outputs": [
    {
     "name": "stderr",
     "output_type": "stream",
     "text": [
      "C:\\Users\\moons\\AppData\\Local\\Temp\\ipykernel_21280\\464001666.py:3: DeprecationWarning: the imp module is deprecated in favour of importlib and slated for removal in Python 3.12; see the module's documentation for alternative uses\n",
      "  import imp\n"
     ]
    },
    {
     "data": {
      "text/plain": [
       "<module 'invest' from 'c:\\\\Users\\\\moons\\\\Documents\\\\GitHub\\\\ubion_9\\\\python\\\\231205\\\\invest\\\\__init__.py'>"
      ]
     },
     "execution_count": 7,
     "metadata": {},
     "output_type": "execute_result"
    }
   ],
   "source": [
    "import pandas as pd\n",
    "import invest\n",
    "import imp \n",
    "imp.reload(invest)"
   ]
  },
  {
   "cell_type": "code",
   "execution_count": 8,
   "metadata": {},
   "outputs": [
    {
     "data": {
      "text/html": [
       "<div>\n",
       "<style scoped>\n",
       "    .dataframe tbody tr th:only-of-type {\n",
       "        vertical-align: middle;\n",
       "    }\n",
       "\n",
       "    .dataframe tbody tr th {\n",
       "        vertical-align: top;\n",
       "    }\n",
       "\n",
       "    .dataframe thead th {\n",
       "        text-align: right;\n",
       "    }\n",
       "</style>\n",
       "<table border=\"1\" class=\"dataframe\">\n",
       "  <thead>\n",
       "    <tr style=\"text-align: right;\">\n",
       "      <th></th>\n",
       "      <th>Date</th>\n",
       "      <th>Open</th>\n",
       "      <th>High</th>\n",
       "      <th>Low</th>\n",
       "      <th>Close</th>\n",
       "      <th>Adj Close</th>\n",
       "      <th>Volume</th>\n",
       "    </tr>\n",
       "  </thead>\n",
       "  <tbody>\n",
       "    <tr>\n",
       "      <th>0</th>\n",
       "      <td>1988-05-04</td>\n",
       "      <td>14.875</td>\n",
       "      <td>15.000</td>\n",
       "      <td>14.875</td>\n",
       "      <td>15.000</td>\n",
       "      <td>12.865627</td>\n",
       "      <td>1101400</td>\n",
       "    </tr>\n",
       "    <tr>\n",
       "      <th>1</th>\n",
       "      <td>1988-05-05</td>\n",
       "      <td>15.000</td>\n",
       "      <td>15.125</td>\n",
       "      <td>15.000</td>\n",
       "      <td>15.125</td>\n",
       "      <td>12.972840</td>\n",
       "      <td>41500</td>\n",
       "    </tr>\n",
       "    <tr>\n",
       "      <th>2</th>\n",
       "      <td>1988-05-06</td>\n",
       "      <td>15.125</td>\n",
       "      <td>16.000</td>\n",
       "      <td>15.125</td>\n",
       "      <td>15.875</td>\n",
       "      <td>13.616121</td>\n",
       "      <td>263100</td>\n",
       "    </tr>\n",
       "    <tr>\n",
       "      <th>3</th>\n",
       "      <td>1988-05-09</td>\n",
       "      <td>16.000</td>\n",
       "      <td>16.500</td>\n",
       "      <td>16.000</td>\n",
       "      <td>16.250</td>\n",
       "      <td>13.937762</td>\n",
       "      <td>102400</td>\n",
       "    </tr>\n",
       "    <tr>\n",
       "      <th>4</th>\n",
       "      <td>1988-05-10</td>\n",
       "      <td>16.250</td>\n",
       "      <td>16.375</td>\n",
       "      <td>15.875</td>\n",
       "      <td>15.875</td>\n",
       "      <td>13.616121</td>\n",
       "      <td>91900</td>\n",
       "    </tr>\n",
       "  </tbody>\n",
       "</table>\n",
       "</div>"
      ],
      "text/plain": [
       "         Date    Open    High     Low   Close  Adj Close   Volume\n",
       "0  1988-05-04  14.875  15.000  14.875  15.000  12.865627  1101400\n",
       "1  1988-05-05  15.000  15.125  15.000  15.125  12.972840    41500\n",
       "2  1988-05-06  15.125  16.000  15.125  15.875  13.616121   263100\n",
       "3  1988-05-09  16.000  16.500  16.000  16.250  13.937762   102400\n",
       "4  1988-05-10  16.250  16.375  15.875  15.875  13.616121    91900"
      ]
     },
     "execution_count": 8,
     "metadata": {},
     "output_type": "execute_result"
    }
   ],
   "source": [
    "# invest 라이브러리 안에 있는 바이앤홀드 함수를 호출 \n",
    "\n",
    "df = pd.read_csv(\"../../csv/USM.csv\")\n",
    "df.head()"
   ]
  },
  {
   "cell_type": "code",
   "execution_count": 9,
   "metadata": {},
   "outputs": [
    {
     "data": {
      "text/html": [
       "<div>\n",
       "<style scoped>\n",
       "    .dataframe tbody tr th:only-of-type {\n",
       "        vertical-align: middle;\n",
       "    }\n",
       "\n",
       "    .dataframe tbody tr th {\n",
       "        vertical-align: top;\n",
       "    }\n",
       "\n",
       "    .dataframe thead th {\n",
       "        text-align: right;\n",
       "    }\n",
       "</style>\n",
       "<table border=\"1\" class=\"dataframe\">\n",
       "  <thead>\n",
       "    <tr style=\"text-align: right;\">\n",
       "      <th></th>\n",
       "      <th>Date</th>\n",
       "      <th>Open</th>\n",
       "      <th>High</th>\n",
       "      <th>Low</th>\n",
       "      <th>Close</th>\n",
       "      <th>Adj Close</th>\n",
       "      <th>Volume</th>\n",
       "    </tr>\n",
       "  </thead>\n",
       "  <tbody>\n",
       "    <tr>\n",
       "      <th>0</th>\n",
       "      <td>2006-05-22</td>\n",
       "      <td>36.520000</td>\n",
       "      <td>37.290001</td>\n",
       "      <td>35.869999</td>\n",
       "      <td>37.230000</td>\n",
       "      <td>34.280224</td>\n",
       "      <td>197100</td>\n",
       "    </tr>\n",
       "    <tr>\n",
       "      <th>1</th>\n",
       "      <td>2006-05-23</td>\n",
       "      <td>37.750000</td>\n",
       "      <td>39.220001</td>\n",
       "      <td>37.750000</td>\n",
       "      <td>37.959999</td>\n",
       "      <td>34.952393</td>\n",
       "      <td>620900</td>\n",
       "    </tr>\n",
       "    <tr>\n",
       "      <th>2</th>\n",
       "      <td>2006-05-24</td>\n",
       "      <td>37.130001</td>\n",
       "      <td>37.570000</td>\n",
       "      <td>35.869999</td>\n",
       "      <td>36.520000</td>\n",
       "      <td>33.626480</td>\n",
       "      <td>638600</td>\n",
       "    </tr>\n",
       "    <tr>\n",
       "      <th>3</th>\n",
       "      <td>2006-05-25</td>\n",
       "      <td>37.180000</td>\n",
       "      <td>38.320000</td>\n",
       "      <td>36.980000</td>\n",
       "      <td>38.320000</td>\n",
       "      <td>35.283867</td>\n",
       "      <td>367000</td>\n",
       "    </tr>\n",
       "    <tr>\n",
       "      <th>4</th>\n",
       "      <td>2006-05-26</td>\n",
       "      <td>38.740002</td>\n",
       "      <td>38.740002</td>\n",
       "      <td>37.770000</td>\n",
       "      <td>38.549999</td>\n",
       "      <td>35.495640</td>\n",
       "      <td>269400</td>\n",
       "    </tr>\n",
       "  </tbody>\n",
       "</table>\n",
       "</div>"
      ],
      "text/plain": [
       "         Date       Open       High        Low      Close  Adj Close  Volume\n",
       "0  2006-05-22  36.520000  37.290001  35.869999  37.230000  34.280224  197100\n",
       "1  2006-05-23  37.750000  39.220001  37.750000  37.959999  34.952393  620900\n",
       "2  2006-05-24  37.130001  37.570000  35.869999  36.520000  33.626480  638600\n",
       "3  2006-05-25  37.180000  38.320000  36.980000  38.320000  35.283867  367000\n",
       "4  2006-05-26  38.740002  38.740002  37.770000  38.549999  35.495640  269400"
      ]
     },
     "execution_count": 9,
     "metadata": {},
     "output_type": "execute_result"
    }
   ],
   "source": [
    "df2 = pd.read_csv(\"../../csv/GDX.csv\")\n",
    "df2.head()"
   ]
  },
  {
   "cell_type": "code",
   "execution_count": 10,
   "metadata": {},
   "outputs": [],
   "source": [
    "test1 = invest.Invest(\n",
    "    df\n",
    ")"
   ]
  },
  {
   "cell_type": "code",
   "execution_count": 11,
   "metadata": {},
   "outputs": [],
   "source": [
    "test2 = invest.Invest(\n",
    "    df2, \n",
    "    'Close'\n",
    ")"
   ]
  },
  {
   "cell_type": "code",
   "execution_count": 12,
   "metadata": {},
   "outputs": [
    {
     "ename": "ValueError",
     "evalue": "time data '2010-01-01' does not match format '%Y%m'",
     "output_type": "error",
     "traceback": [
      "\u001b[1;31m---------------------------------------------------------------------------\u001b[0m",
      "\u001b[1;31mValueError\u001b[0m                                Traceback (most recent call last)",
      "\u001b[1;32mc:\\Users\\moons\\Documents\\GitHub\\ubion_9\\python\\231205\\02_test_module.ipynb Cell 6\u001b[0m line \u001b[0;36m1\n\u001b[1;32m----> <a href='vscode-notebook-cell:/c%3A/Users/moons/Documents/GitHub/ubion_9/python/231205/02_test_module.ipynb#W5sZmlsZQ%3D%3D?line=0'>1</a>\u001b[0m test1\u001b[39m.\u001b[39;49mBuyAndHold()\n",
      "File \u001b[1;32mc:\\Users\\moons\\Documents\\GitHub\\ubion_9\\python\\231205\\invest\\__init__.py:24\u001b[0m, in \u001b[0;36mInvest.BuyAndHold\u001b[1;34m(self)\u001b[0m\n\u001b[0;32m     23\u001b[0m \u001b[39mdef\u001b[39;00m \u001b[39mBuyAndHold\u001b[39m(\u001b[39mself\u001b[39m):\n\u001b[1;32m---> 24\u001b[0m     result, rtn \u001b[39m=\u001b[39m bnh\u001b[39m.\u001b[39;49mbuyandhold(\n\u001b[0;32m     25\u001b[0m         \u001b[39mself\u001b[39;49m\u001b[39m.\u001b[39;49mdata, \n\u001b[0;32m     26\u001b[0m         \u001b[39mself\u001b[39;49m\u001b[39m.\u001b[39;49mcol, \n\u001b[0;32m     27\u001b[0m         \u001b[39mself\u001b[39;49m\u001b[39m.\u001b[39;49mstart, \n\u001b[0;32m     28\u001b[0m         \u001b[39mself\u001b[39;49m\u001b[39m.\u001b[39;49mend\n\u001b[0;32m     29\u001b[0m     )\n\u001b[0;32m     30\u001b[0m     \u001b[39mprint\u001b[39m(\u001b[39mf\u001b[39m\u001b[39m'\u001b[39m\u001b[39m바이앤홀드 누적 수익율은 \u001b[39m\u001b[39m{\u001b[39;00mrtn\u001b[39m}\u001b[39;00m\u001b[39m입니다.\u001b[39m\u001b[39m'\u001b[39m)\n\u001b[0;32m     31\u001b[0m     \u001b[39mreturn\u001b[39;00m result\n",
      "File \u001b[1;32mc:\\Users\\moons\\Documents\\GitHub\\ubion_9\\python\\231205\\invest\\quant\\buyandhold.py:20\u001b[0m, in \u001b[0;36mbuyandhold\u001b[1;34m(df, col, start, end)\u001b[0m\n\u001b[0;32m     18\u001b[0m df \u001b[39m=\u001b[39m df[[col]]\n\u001b[0;32m     19\u001b[0m \u001b[39m# start, end 데이터를 시계열 데이터로 변경\u001b[39;00m\n\u001b[1;32m---> 20\u001b[0m buy \u001b[39m=\u001b[39m datetime\u001b[39m.\u001b[39;49mstrptime(start, \u001b[39m'\u001b[39;49m\u001b[39m%\u001b[39;49m\u001b[39mY\u001b[39;49m\u001b[39m%\u001b[39;49m\u001b[39mm\u001b[39;49m\u001b[39m'\u001b[39;49m)\u001b[39m.\u001b[39misoformat()\n\u001b[0;32m     21\u001b[0m sell \u001b[39m=\u001b[39m datetime\u001b[39m.\u001b[39mstrptime(end, \u001b[39m'\u001b[39m\u001b[39m%\u001b[39m\u001b[39mY\u001b[39m\u001b[39m%\u001b[39m\u001b[39mm\u001b[39m\u001b[39m'\u001b[39m)\u001b[39m.\u001b[39misoformat()\n\u001b[0;32m     22\u001b[0m \u001b[39m# daily_rtn 파생변수를 생성하여 일별 수익율을 계산해서 대입\u001b[39;00m\n",
      "File \u001b[1;32mc:\\Users\\moons\\AppData\\Local\\Programs\\Python\\Python311\\Lib\\_strptime.py:568\u001b[0m, in \u001b[0;36m_strptime_datetime\u001b[1;34m(cls, data_string, format)\u001b[0m\n\u001b[0;32m    565\u001b[0m \u001b[39mdef\u001b[39;00m \u001b[39m_strptime_datetime\u001b[39m(\u001b[39mcls\u001b[39m, data_string, \u001b[39mformat\u001b[39m\u001b[39m=\u001b[39m\u001b[39m\"\u001b[39m\u001b[39m%a\u001b[39;00m\u001b[39m \u001b[39m\u001b[39m%\u001b[39m\u001b[39mb \u001b[39m\u001b[39m%d\u001b[39;00m\u001b[39m \u001b[39m\u001b[39m%\u001b[39m\u001b[39mH:\u001b[39m\u001b[39m%\u001b[39m\u001b[39mM:\u001b[39m\u001b[39m%\u001b[39m\u001b[39mS \u001b[39m\u001b[39m%\u001b[39m\u001b[39mY\u001b[39m\u001b[39m\"\u001b[39m):\n\u001b[0;32m    566\u001b[0m     \u001b[39m\"\"\"Return a class cls instance based on the input string and the\u001b[39;00m\n\u001b[0;32m    567\u001b[0m \u001b[39m    format string.\"\"\"\u001b[39;00m\n\u001b[1;32m--> 568\u001b[0m     tt, fraction, gmtoff_fraction \u001b[39m=\u001b[39m _strptime(data_string, \u001b[39mformat\u001b[39;49m)\n\u001b[0;32m    569\u001b[0m     tzname, gmtoff \u001b[39m=\u001b[39m tt[\u001b[39m-\u001b[39m\u001b[39m2\u001b[39m:]\n\u001b[0;32m    570\u001b[0m     args \u001b[39m=\u001b[39m tt[:\u001b[39m6\u001b[39m] \u001b[39m+\u001b[39m (fraction,)\n",
      "File \u001b[1;32mc:\\Users\\moons\\AppData\\Local\\Programs\\Python\\Python311\\Lib\\_strptime.py:349\u001b[0m, in \u001b[0;36m_strptime\u001b[1;34m(data_string, format)\u001b[0m\n\u001b[0;32m    347\u001b[0m found \u001b[39m=\u001b[39m format_regex\u001b[39m.\u001b[39mmatch(data_string)\n\u001b[0;32m    348\u001b[0m \u001b[39mif\u001b[39;00m \u001b[39mnot\u001b[39;00m found:\n\u001b[1;32m--> 349\u001b[0m     \u001b[39mraise\u001b[39;00m \u001b[39mValueError\u001b[39;00m(\u001b[39m\"\u001b[39m\u001b[39mtime data \u001b[39m\u001b[39m%r\u001b[39;00m\u001b[39m does not match format \u001b[39m\u001b[39m%r\u001b[39;00m\u001b[39m\"\u001b[39m \u001b[39m%\u001b[39m\n\u001b[0;32m    350\u001b[0m                      (data_string, \u001b[39mformat\u001b[39m))\n\u001b[0;32m    351\u001b[0m \u001b[39mif\u001b[39;00m \u001b[39mlen\u001b[39m(data_string) \u001b[39m!=\u001b[39m found\u001b[39m.\u001b[39mend():\n\u001b[0;32m    352\u001b[0m     \u001b[39mraise\u001b[39;00m \u001b[39mValueError\u001b[39;00m(\u001b[39m\"\u001b[39m\u001b[39munconverted data remains: \u001b[39m\u001b[39m%s\u001b[39;00m\u001b[39m\"\u001b[39m \u001b[39m%\u001b[39m\n\u001b[0;32m    353\u001b[0m                       data_string[found\u001b[39m.\u001b[39mend():])\n",
      "\u001b[1;31mValueError\u001b[0m: time data '2010-01-01' does not match format '%Y%m'"
     ]
    }
   ],
   "source": [
    "test1.BuyAndHold()"
   ]
  },
  {
   "cell_type": "code",
   "execution_count": null,
   "metadata": {},
   "outputs": [],
   "source": []
  }
 ],
 "metadata": {
  "kernelspec": {
   "display_name": "Python 3",
   "language": "python",
   "name": "python3"
  },
  "language_info": {
   "codemirror_mode": {
    "name": "ipython",
    "version": 3
   },
   "file_extension": ".py",
   "mimetype": "text/x-python",
   "name": "python",
   "nbconvert_exporter": "python",
   "pygments_lexer": "ipython3",
   "version": "3.11.1"
  }
 },
 "nbformat": 4,
 "nbformat_minor": 2
}
