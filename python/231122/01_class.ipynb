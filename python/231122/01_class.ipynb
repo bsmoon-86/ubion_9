{
 "cells": [
  {
   "cell_type": "markdown",
   "metadata": {},
   "source": [
    "### class의 상속\n",
    "- 부모클래스의 기능을 그대로 유지한 상태에서 자식 클래스가 부모클래스의 기능을 추가하여 사용"
   ]
  },
  {
   "cell_type": "code",
   "execution_count": 28,
   "metadata": {},
   "outputs": [],
   "source": [
    "# 유저 클래스 생성 \n",
    "class User:\n",
    "    # 등록된 유저의 목록을 확인하기 위한 클래스 변수\n",
    "    user_list = []\n",
    "\n",
    "    # 생성자 함수 : 유저의 정보를 등록\n",
    "    def __init__(self, _name, _age, _address):\n",
    "        self.name = _name\n",
    "        self.age = _age\n",
    "        self.address = _address\n",
    "        self.user_list.append(_name)\n",
    "    # 유저의 정보를 확인하는 함수\n",
    "    def info(self):\n",
    "        result = f\"유저의 이름은 {self.name}이고 나이는 {self.age} 주소는 {self.address}이다\"\n",
    "        return result\n",
    "    # 유저의 목록을 출력하는 함수 \n",
    "    def view_list(self):\n",
    "        return self.user_list"
   ]
  },
  {
   "cell_type": "code",
   "execution_count": null,
   "metadata": {},
   "outputs": [],
   "source": [
    "# User class 생성 \n",
    "user1 = User('kim', 20, 'seoul')\n",
    "user2 = User('park', 30, 'busan')"
   ]
  },
  {
   "cell_type": "code",
   "execution_count": null,
   "metadata": {},
   "outputs": [],
   "source": [
    "print(user1.info())\n",
    "print(user2.info())"
   ]
  },
  {
   "cell_type": "code",
   "execution_count": null,
   "metadata": {},
   "outputs": [],
   "source": [
    "print(user1.view_list())\n",
    "print(user2.view_list())"
   ]
  },
  {
   "cell_type": "markdown",
   "metadata": {},
   "source": [
    "### 자식 클래스 \n",
    "- 클래스의 이름은 Wallet \n",
    "- User 클래스의 기능 상속 받는다. \n",
    "- work() 함수를 이용하여 일을 하고 일이 완료되면 지갑의 잔액이 증가\n",
    "    - 일의 종류에 따라 잔액 증가량이 변화\n",
    "- buy() 함수를 이용하여 물건을 구매하고 지갑의 잔액이 감소\n",
    "    - 구매하는 물건따라 잔액 감소량이 변화\n",
    "    - 구매한 물건의 목록 추가 "
   ]
  },
  {
   "cell_type": "code",
   "execution_count": 29,
   "metadata": {},
   "outputs": [],
   "source": [
    "class Wallet(User):\n",
    "\n",
    "    # 생성자 함수 : 지갑의 정보 입력값 , 유저의 정보\n",
    "    def __init__(self, _name, _age, _address, _balance):\n",
    "        # self.name = _name\n",
    "        # self.age = _age\n",
    "        # self.address = _address\n",
    "        # 부모 클래스(super())에 있는 __init__() 사용\n",
    "        super().__init__(_name, _age, _address)\n",
    "        self.balance = _balance\n",
    "        self.goods = []\n",
    "\n",
    "    # 돈을 벌기 위해 일을 시작하자\n",
    "    def work(self, _type):\n",
    "        # 일의 종류에 따라 일당이 다른 형태 구성\n",
    "        # 서비스직 : 100000, 전문직 : 300000, 배달 : 200000\n",
    "        if _type == '서비스직':\n",
    "            self.balance += 100000\n",
    "            result = f\"{_type}의 일을 완료. 현재 지갑의 잔액은 {self.balance}입니다\"\n",
    "        elif _type == '전문직':\n",
    "            self.balance += 300000\n",
    "            result = f\"{_type}의 일을 완료. 현재 지갑의 잔액은 {self.balance}입니다\"\n",
    "        elif _type == \"배달\":\n",
    "            self.balance += 200000\n",
    "            result = f\"{_type}의 일을 완료. 현재 지갑의 잔액은 {self.balance}입니다\"\n",
    "        else:\n",
    "            result = \"해당하는 일의 타입이 존재하지 않습니다.\"\n",
    "        return result\n",
    "    \n",
    "    def buy(self, _type):\n",
    "        # 구매하는 물건에 따라 잔액 감소\n",
    "        # 식기세척기 : 800000, 다과 : 1700, 헤드셋 : 300000\n",
    "        if _type == '식기세척기':\n",
    "            cost = 800000\n",
    "        elif _type == '다과':\n",
    "            cost = 1700\n",
    "        elif _type == '헤드셋':\n",
    "            cost = 300000\n",
    "        else:\n",
    "            return \"등록되지 않은 물건입니다.\"\n",
    "        \n",
    "        # 구매하려는 cost보다 지갑의 잔액 balance가 크거나 같다.\n",
    "        if self.balance >= cost:\n",
    "            self.balance -= cost\n",
    "            self.goods.append(_type)\n",
    "            result = f\"{_type}을 구매 현재 잔액은 {self.balance}입니다.\"\n",
    "        else:\n",
    "            result = \"지갑의 잔액이 부족합니다.\"\n",
    "        return result\n",
    "    # 함수의 기능을 변경 : 오버라이드\n",
    "    def view_list(self):\n",
    "        return self.goods"
   ]
  },
  {
   "cell_type": "code",
   "execution_count": 30,
   "metadata": {},
   "outputs": [],
   "source": [
    "wallet1 = Wallet('kim', 20, 'seoul', 0)\n",
    "wallet2 = Wallet('park', 30, 'busan', 0)\n",
    "user1 = User('choi', 25, 'seoul')"
   ]
  },
  {
   "cell_type": "code",
   "execution_count": 47,
   "metadata": {},
   "outputs": [
    {
     "name": "stdout",
     "output_type": "stream",
     "text": [
      "서비스직의 일을 완료. 현재 지갑의 잔액은 1700000입니다\n",
      "전문직의 일을 완료. 현재 지갑의 잔액은 5100000입니다\n"
     ]
    }
   ],
   "source": [
    "print(wallet1.work('서비스직'))\n",
    "print(wallet2.work('전문직'))"
   ]
  },
  {
   "cell_type": "code",
   "execution_count": 48,
   "metadata": {},
   "outputs": [
    {
     "name": "stdout",
     "output_type": "stream",
     "text": [
      "유저의 이름은 kim이고 나이는 20 주소는 seoul이다\n",
      "유저의 이름은 park이고 나이는 30 주소는 busan이다\n",
      "유저의 이름은 choi이고 나이는 25 주소는 seoul이다\n"
     ]
    }
   ],
   "source": [
    "print(wallet1.info())\n",
    "print(wallet2.info())\n",
    "print(user1.info())"
   ]
  },
  {
   "cell_type": "code",
   "execution_count": 49,
   "metadata": {},
   "outputs": [
    {
     "name": "stdout",
     "output_type": "stream",
     "text": [
      "다과을 구매 현재 잔액은 1698300입니다.\n",
      "식기세척기을 구매 현재 잔액은 4300000입니다.\n"
     ]
    }
   ],
   "source": [
    "print(wallet1.buy('다과'))\n",
    "print(wallet2.buy('식기세척기'))"
   ]
  },
  {
   "cell_type": "code",
   "execution_count": 50,
   "metadata": {},
   "outputs": [
    {
     "name": "stdout",
     "output_type": "stream",
     "text": [
      "헤드셋을 구매 현재 잔액은 1398300입니다.\n",
      "다과을 구매 현재 잔액은 4298300입니다.\n"
     ]
    }
   ],
   "source": [
    "print(wallet1.buy('헤드셋'))\n",
    "print(wallet2.buy('다과'))"
   ]
  },
  {
   "cell_type": "code",
   "execution_count": 51,
   "metadata": {},
   "outputs": [
    {
     "name": "stdout",
     "output_type": "stream",
     "text": [
      "['kim', 'park', 'choi']\n",
      "['다과', '헤드셋']\n",
      "['식기세척기', '다과']\n"
     ]
    }
   ],
   "source": [
    "print(user1.view_list())\n",
    "print(wallet1.view_list())\n",
    "print(wallet2.view_list())"
   ]
  }
 ],
 "metadata": {
  "kernelspec": {
   "display_name": "Python 3",
   "language": "python",
   "name": "python3"
  },
  "language_info": {
   "codemirror_mode": {
    "name": "ipython",
    "version": 3
   },
   "file_extension": ".py",
   "mimetype": "text/x-python",
   "name": "python",
   "nbconvert_exporter": "python",
   "pygments_lexer": "ipython3",
   "version": "3.11.1"
  }
 },
 "nbformat": 4,
 "nbformat_minor": 2
}
