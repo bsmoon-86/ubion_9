{
 "cells": [
  {
   "cell_type": "markdown",
   "metadata": {},
   "source": [
    "### python과 mysql을 연동 \n",
    "1. 외부의 라이브러리(pymysql) 설치 \n",
    "2. 라이브러리 로드 \n",
    "3. sql 서버의 정보를 입력\n",
    "4. sql 서버에 접속\n",
    "5. sql 쿼리문을 작성하여 sql 서버에 쿼리문을 요청 \n",
    "6. 해당하는 쿼리문에 따라 응답 메시지"
   ]
  },
  {
   "cell_type": "code",
   "execution_count": null,
   "metadata": {},
   "outputs": [],
   "source": [
    "!pip install pymysql"
   ]
  },
  {
   "cell_type": "code",
   "execution_count": null,
   "metadata": {},
   "outputs": [],
   "source": [
    "# 라이브러리 로드 \n",
    "import pymysql"
   ]
  },
  {
   "cell_type": "code",
   "execution_count": null,
   "metadata": {},
   "outputs": [],
   "source": [
    "## cryptography error 발생시 \n",
    "!pip install cryptography"
   ]
  },
  {
   "cell_type": "code",
   "execution_count": null,
   "metadata": {},
   "outputs": [],
   "source": [
    "## 라이브러리 강제로 리로드 \n",
    "import imp \n",
    "imp.reload(pymysql)"
   ]
  },
  {
   "cell_type": "code",
   "execution_count": null,
   "metadata": {},
   "outputs": [],
   "source": [
    "# sql 서버의 정보를 입력 -> 접속\n",
    "_db = pymysql.connect(\n",
    "    host='127.0.0.1', \n",
    "    port=3306, \n",
    "    user='root', \n",
    "    password = '1234', \n",
    "    db = 'ubion'\n",
    ")"
   ]
  },
  {
   "cell_type": "code",
   "execution_count": null,
   "metadata": {},
   "outputs": [],
   "source": [
    "# cursor 생성\n",
    "cursor = _db.cursor(pymysql.cursors.DictCursor)\n",
    "cursor2 = _db.cursor()"
   ]
  },
  {
   "cell_type": "code",
   "execution_count": null,
   "metadata": {},
   "outputs": [],
   "source": [
    "sql = \"select * from emp\""
   ]
  },
  {
   "cell_type": "code",
   "execution_count": null,
   "metadata": {},
   "outputs": [],
   "source": [
    "cursor.execute(sql)"
   ]
  },
  {
   "cell_type": "code",
   "execution_count": null,
   "metadata": {},
   "outputs": [],
   "source": [
    "cursor.fetchall()"
   ]
  },
  {
   "cell_type": "code",
   "execution_count": null,
   "metadata": {},
   "outputs": [],
   "source": [
    "cursor2.execute(sql)"
   ]
  },
  {
   "cell_type": "code",
   "execution_count": null,
   "metadata": {},
   "outputs": [],
   "source": [
    "cursor2.fetchall()"
   ]
  },
  {
   "cell_type": "code",
   "execution_count": null,
   "metadata": {},
   "outputs": [],
   "source": [
    "sql = \"\"\"\n",
    "    insert \n",
    "    into \n",
    "    user \n",
    "    values \n",
    "    ('test3' , '1234', 'park', 30, 'seoul')\n",
    "\"\"\""
   ]
  },
  {
   "cell_type": "code",
   "execution_count": null,
   "metadata": {},
   "outputs": [],
   "source": [
    "cursor.execute(sql)"
   ]
  },
  {
   "cell_type": "code",
   "execution_count": null,
   "metadata": {},
   "outputs": [],
   "source": [
    "sql = \"\"\"\n",
    "    select \n",
    "    * \n",
    "    from \n",
    "    user\n",
    "\"\"\""
   ]
  },
  {
   "cell_type": "code",
   "execution_count": null,
   "metadata": {},
   "outputs": [],
   "source": [
    "cursor.execute(sql)\n",
    "cursor.fetchall()"
   ]
  },
  {
   "cell_type": "code",
   "execution_count": null,
   "metadata": {},
   "outputs": [],
   "source": [
    "_db.commit()"
   ]
  },
  {
   "cell_type": "code",
   "execution_count": null,
   "metadata": {},
   "outputs": [],
   "source": [
    "## user table에 데이터를 삽입\n",
    "## 입력 데이터는 input 함수를 이용하여 데이터를 받아온다. \n",
    "id = input('ID를 입력하시오')\n",
    "password = input('PASSWORD를 입력하시오')\n",
    "name = input('name을 입력하시오')\n",
    "age = input('age를 입력하시오')\n",
    "address = input('address를 입력하시오')\n",
    "print(id, password, name, age, address)\n",
    "\n",
    "sql  = \"\"\"\n",
    "    insert into \n",
    "    user \n",
    "    values \n",
    "    (%s, %s, %s, %s, %s)\n",
    "\"\"\"\n",
    "data_list = [id, password, name, age, address]\n",
    "\n",
    "cursor.execute(sql, data_list)\n",
    "_db.commit()"
   ]
  },
  {
   "cell_type": "code",
   "execution_count": null,
   "metadata": {},
   "outputs": [],
   "source": [
    "# select문을 사용할때 함수 \n",
    "def select_query(sql, values):\n",
    "    cursor.execute(sql, values)\n",
    "    result = cursor.fetchall()\n",
    "    return result"
   ]
  },
  {
   "cell_type": "code",
   "execution_count": null,
   "metadata": {},
   "outputs": [],
   "source": [
    "sql = \"\"\"\n",
    "    select \n",
    "    * \n",
    "    from \n",
    "    user\n",
    "\"\"\"\n",
    "select_query(sql, [])"
   ]
  },
  {
   "cell_type": "code",
   "execution_count": null,
   "metadata": {},
   "outputs": [],
   "source": [
    "sql = \"\"\"\n",
    "    select \n",
    "    * \n",
    "    from \n",
    "    user \n",
    "    where \n",
    "    id = %s\n",
    "\"\"\"\n",
    "values = input('조회할 ID를 입력하시오')\n",
    "select_query(sql, [values])"
   ]
  },
  {
   "cell_type": "code",
   "execution_count": null,
   "metadata": {},
   "outputs": [],
   "source": [
    "## CRU의 쿼리문을 사용할때 함수 \n",
    "def cud_query(sql, *values):\n",
    "    cursor.execute(sql, values)\n",
    "    _db.commit()\n",
    "    return 'Query OK'"
   ]
  },
  {
   "cell_type": "code",
   "execution_count": null,
   "metadata": {},
   "outputs": [],
   "source": [
    "sql = \"\"\"\n",
    "    update \n",
    "    user \n",
    "    set \n",
    "    password = %s \n",
    "    where \n",
    "    id = %s\n",
    "\"\"\"\n",
    "id = input('password를 변경할 ID를 입력하시오')\n",
    "password = input('변경할 패스워드를 입력하시오')\n",
    "\n",
    "cud_query(sql, password, id)"
   ]
  },
  {
   "cell_type": "code",
   "execution_count": null,
   "metadata": {},
   "outputs": [],
   "source": [
    "sql  = \"\"\"\n",
    "    SELECT \n",
    "    * \n",
    "    FROM \n",
    "    user\n",
    "\"\"\"\n",
    "\n",
    "# print(sql.lower().split()[0] == 'select')\n",
    "# sql.strip().startswith('select')\n",
    "sql.split()[0].lower()"
   ]
  },
  {
   "cell_type": "code",
   "execution_count": null,
   "metadata": {},
   "outputs": [],
   "source": [
    "sql = \"select * from user\"\n",
    "\n",
    "sql.split()[0]"
   ]
  },
  {
   "cell_type": "code",
   "execution_count": null,
   "metadata": {},
   "outputs": [],
   "source": [
    "# 위에서 생성한 2개의 함수를 하나로 합쳐서 생성\n",
    "def sql_query(sql, *values):\n",
    "    cursor.execute(sql, values)\n",
    "    # 쿼리문이 select문이면 \n",
    "    if sql.lower().split()[0] == 'select':\n",
    "    # if sql.upper().strip().statswith('SELECT'):\n",
    "        result = cursor.fetchall()\n",
    "    else:\n",
    "        _db.commit()\n",
    "        result = 'Query OK'\n",
    "    return result"
   ]
  },
  {
   "cell_type": "code",
   "execution_count": null,
   "metadata": {},
   "outputs": [],
   "source": [
    "sql = \"\"\"\n",
    "    SELECT \n",
    "    * \n",
    "    FROM \n",
    "    user\n",
    "\"\"\"\n",
    "sql_query(sql)"
   ]
  },
  {
   "cell_type": "code",
   "execution_count": 61,
   "metadata": {},
   "outputs": [
    {
     "name": "stdout",
     "output_type": "stream",
     "text": [
      "[{'id': 'test2', 'password': '1111', 'name': 'park', 'age': 30, 'address': 'busan'}]\n",
      "Query OK\n",
      "Query OK\n"
     ]
    }
   ],
   "source": [
    "sql = \"select * from user where id = %s\"\n",
    "sql2 = \"insert into user values (%s, %s, %s, %s, %s)\"\n",
    "sql3 = 'delete from user where id = %s'\n",
    "print(sql_query(sql, 'test2'))\n",
    "print(sql_query(sql2, 'test10', '1234', 'kim', 25, 'busan'))\n",
    "print(sql_query(sql3, 'test'))"
   ]
  }
 ],
 "metadata": {
  "kernelspec": {
   "display_name": "Python 3",
   "language": "python",
   "name": "python3"
  },
  "language_info": {
   "codemirror_mode": {
    "name": "ipython",
    "version": 3
   },
   "file_extension": ".py",
   "mimetype": "text/x-python",
   "name": "python",
   "nbconvert_exporter": "python",
   "pygments_lexer": "ipython3",
   "version": "3.11.1"
  }
 },
 "nbformat": 4,
 "nbformat_minor": 2
}
