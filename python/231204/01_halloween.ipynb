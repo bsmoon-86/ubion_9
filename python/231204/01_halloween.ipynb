{
 "cells": [
  {
   "cell_type": "markdown",
   "metadata": {},
   "source": [
    "### 할로윈 투자전략\n",
    "1. 11월 첫날의 주식을 매수 -> 6개월간 유지 4월 말일에 판매\n",
    "2. 11월 첫날의 시가로 구매\n",
    "3. 4월 말에 종가 판매 \n",
    "4. 수익율 -> 3번과정의 종가 / 2번 과정의 시가\n",
    "5. 데이터를 이용하여 수익율 계산"
   ]
  },
  {
   "cell_type": "code",
   "execution_count": null,
   "metadata": {},
   "outputs": [],
   "source": [
    "import pandas as pd\n",
    "from datetime import datetime"
   ]
  },
  {
   "cell_type": "code",
   "execution_count": null,
   "metadata": {},
   "outputs": [],
   "source": [
    "df = pd.read_csv('../../csv/AMZN.csv')"
   ]
  },
  {
   "cell_type": "code",
   "execution_count": null,
   "metadata": {},
   "outputs": [],
   "source": [
    "df.head(1)"
   ]
  },
  {
   "cell_type": "code",
   "execution_count": null,
   "metadata": {},
   "outputs": [],
   "source": [
    "# date 컬럼을 시계열 변경 -> Date 컬럼을 인덱스로 변환\n",
    "df['Date'] = pd.to_datetime(df['Date'], format='%Y-%m-%d')"
   ]
  },
  {
   "cell_type": "code",
   "execution_count": null,
   "metadata": {},
   "outputs": [],
   "source": [
    "df.set_index('Date', inplace=True)"
   ]
  },
  {
   "cell_type": "code",
   "execution_count": null,
   "metadata": {},
   "outputs": [],
   "source": [
    "# 2000년 11월 데이터를 확인\n",
    "df.loc['2000-11'].head(1)\n",
    "# df.loc['2000-11'].iloc[0, 0]"
   ]
  },
  {
   "cell_type": "code",
   "execution_count": null,
   "metadata": {},
   "outputs": [],
   "source": [
    "# 2001년 4월 데이터를 확인 \n",
    "df.loc['2001-04'].tail(1)['Close']\n",
    "df.loc['2001-04'].iloc[-1]['Close']"
   ]
  },
  {
   "cell_type": "code",
   "execution_count": null,
   "metadata": {},
   "outputs": [],
   "source": [
    "# 2000년부터 2019년까지의 11월 첫날의 데이터와 4월의 마지막날의 데이터만 추출해서 \n",
    "# 새로운 데이터프레임을 생성\n",
    "\n",
    "# 비어있는 데이터프레임을 생성 \n",
    "price_df = pd.DataFrame()\n",
    "\n",
    "# 반복문을 이용해서 2000년부터 2019년까지 반복\n",
    "for i in range(2000, 2019):\n",
    "    # 11월 첫날의 데이터를 추출 \n",
    "    buy_mon = str(i) + '-11'  ## 2000-11, 2001-11, ...\n",
    "    buy = df.loc[buy_mon].head(1)\n",
    "    # 11월 첫날의 데이터를 데이터프레임에 대입\n",
    "    price_df = pd.concat([price_df, buy] , axis=0)\n",
    "    sell_mon = str(i+1) + '-04' ## 2001-04, 2002-04, ....\n",
    "    sell = df.loc[sell_mon].tail(1)\n",
    "    # 4월 마지막 날의 데이터를 데이터프레임에 대입\n",
    "    price_df = pd.concat([price_df, sell], axis=0)\n",
    "\n",
    "price_df"
   ]
  },
  {
   "cell_type": "code",
   "execution_count": null,
   "metadata": {},
   "outputs": [],
   "source": [
    "# Open, Close를 제외한 나머지 컬럼을 모두 제거 \n",
    "price_df2 = price_df[['Open', 'Close']]"
   ]
  },
  {
   "cell_type": "code",
   "execution_count": null,
   "metadata": {},
   "outputs": [],
   "source": [
    "# 수익율 계산 -> 4월에 계산\n",
    "\n",
    "# 수익율 컬럼을 생성 \n",
    "price_df2['rtn'] = 1"
   ]
  },
  {
   "cell_type": "code",
   "execution_count": null,
   "metadata": {},
   "outputs": [],
   "source": [
    "price_df2.iloc[1]['rtn']"
   ]
  },
  {
   "cell_type": "code",
   "execution_count": null,
   "metadata": {},
   "outputs": [],
   "source": [
    "# 위치의 값이 홀수인 경우 수익율을 계산하여 대입 \n",
    "for i in range(len(price_df2)):\n",
    "    if i % 2 == 1:\n",
    "        rtn = price_df2.iloc[i]['Close'] / price_df2.iloc[i-1]['Open']\n",
    "        price_df2.iloc[i, 2] = rtn\n"
   ]
  },
  {
   "cell_type": "code",
   "execution_count": null,
   "metadata": {},
   "outputs": [],
   "source": [
    "\n",
    "price_df2.head()"
   ]
  },
  {
   "cell_type": "code",
   "execution_count": null,
   "metadata": {},
   "outputs": [],
   "source": [
    "price_df2['rtn2'] = 1"
   ]
  },
  {
   "cell_type": "code",
   "execution_count": null,
   "metadata": {},
   "outputs": [],
   "source": [
    "for i in range(1, len(price_df2), 2):\n",
    "    rtn = price_df2.iloc[i]['Close'] / price_df2.iloc[i-1]['Open']\n",
    "    price_df2.iloc[i, 3] = rtn"
   ]
  },
  {
   "cell_type": "code",
   "execution_count": null,
   "metadata": {},
   "outputs": [],
   "source": [
    "price_df2.head()"
   ]
  },
  {
   "cell_type": "code",
   "execution_count": null,
   "metadata": {},
   "outputs": [],
   "source": [
    "# 인덱스의 값으로 조건식을 구성하여 수익율 계산\n",
    "\n",
    "price_df2.index.month == 4"
   ]
  },
  {
   "cell_type": "code",
   "execution_count": null,
   "metadata": {},
   "outputs": [],
   "source": [
    "price_df2['rtn3'] = 1"
   ]
  },
  {
   "cell_type": "code",
   "execution_count": null,
   "metadata": {},
   "outputs": [],
   "source": [
    "price_df2.shift(1)"
   ]
  },
  {
   "cell_type": "code",
   "execution_count": null,
   "metadata": {},
   "outputs": [],
   "source": [
    "for i in price_df2.index:\n",
    "    # i? -> price_df2의 인덱스 값들이 하나씩 대입 -> 시계열데이터\n",
    "    # print(i)\n",
    "    if i.month == 4:\n",
    "        rtn = price_df2.loc[i, 'Close'] / price_df2.shift(1).loc[i, 'Open']\n",
    "        price_df2.loc[i, 'rtn3'] = rtn\n",
    "\n",
    "price_df2.loc[price_df2.index.month == 4]"
   ]
  },
  {
   "cell_type": "code",
   "execution_count": null,
   "metadata": {},
   "outputs": [],
   "source": [
    "# 누적 수익율을 계산\n",
    "\n",
    "acc_rtn = 1\n",
    "\n",
    "for i in price_df2.index:\n",
    "    rtn = price_df2.loc[i, 'rtn']\n",
    "    acc_rtn *= rtn\n",
    "\n",
    "acc_rtn"
   ]
  },
  {
   "cell_type": "code",
   "execution_count": null,
   "metadata": {},
   "outputs": [],
   "source": [
    "price_df2['rtn'].cumprod()"
   ]
  },
  {
   "cell_type": "code",
   "execution_count": 56,
   "metadata": {},
   "outputs": [],
   "source": [
    "from dateutil.relativedelta import relativedelta"
   ]
  },
  {
   "cell_type": "code",
   "execution_count": 69,
   "metadata": {},
   "outputs": [],
   "source": [
    "# 2000년도 11월 1일 시계열 데이터를 생성 \n",
    "start = datetime(year=2000, month=11, day=1)"
   ]
  },
  {
   "cell_type": "code",
   "execution_count": 70,
   "metadata": {},
   "outputs": [],
   "source": [
    "# 시작일에서 5개월 뒤 \n",
    "end = start + relativedelta(months=5)"
   ]
  },
  {
   "cell_type": "code",
   "execution_count": 73,
   "metadata": {},
   "outputs": [],
   "source": [
    "buy_mon = start.strftime('%Y-%m')"
   ]
  },
  {
   "cell_type": "code",
   "execution_count": 74,
   "metadata": {},
   "outputs": [],
   "source": [
    "sell_mon = end.strftime('%Y-%m')"
   ]
  },
  {
   "cell_type": "code",
   "execution_count": 96,
   "metadata": {},
   "outputs": [],
   "source": [
    "# 함수를 생성 \n",
    "# 매개변수의 개수는? 데이터프레임, 시작년도, 종료년도, 시작월\n",
    "def six_month(_df, _start, _end, _month):\n",
    "    # 인덱스가 Date인지 확인하는방법?\n",
    "    if 'Date' in _df.columns:\n",
    "        # Date가 컬럼에 존재하는경우 \n",
    "        # Date 컬럼을 시계열 데이터로 변환\n",
    "        _df['Date'] = pd.to_datetime(_df['Date'])\n",
    "        _df.set_index('Date', inplace=True)\n",
    "    else:\n",
    "        _df.index = pd.to_datetime(_df.index)\n",
    "\n",
    "    # 누적수익율 데이터를 생성 \n",
    "    acc_rtn = 1\n",
    "\n",
    "    for i in range(_start, _end):\n",
    "        start = datetime(year = i, month = _month, day = 1)\n",
    "        end = start + relativedelta(months=5)\n",
    "\n",
    "        # 구매하는 달 \n",
    "        buy_mon = start.strftime('%Y-%m')\n",
    "        # 판매하는 달\n",
    "        sell_mon = end.strftime('%Y-%m')\n",
    "\n",
    "        buy = _df.loc[buy_mon].iloc[0]['Open']\n",
    "        sell = _df.loc[sell_mon].iloc[-1]['Close']\n",
    "\n",
    "        rtn = sell / buy\n",
    "        # print(f\"매수가 : {buy}, 매도가 : {sell}, 수익율 : {rtn}\")\n",
    "        # 누적수익율 계산\n",
    "        acc_rtn *= rtn\n",
    "\n",
    "    return acc_rtn\n",
    "\n",
    "\n",
    "    "
   ]
  },
  {
   "cell_type": "code",
   "execution_count": 93,
   "metadata": {},
   "outputs": [],
   "source": [
    "aapl = pd.read_csv('../../csv/AAPL.csv')"
   ]
  },
  {
   "cell_type": "code",
   "execution_count": 95,
   "metadata": {},
   "outputs": [
    {
     "data": {
      "text/html": [
       "<div>\n",
       "<style scoped>\n",
       "    .dataframe tbody tr th:only-of-type {\n",
       "        vertical-align: middle;\n",
       "    }\n",
       "\n",
       "    .dataframe tbody tr th {\n",
       "        vertical-align: top;\n",
       "    }\n",
       "\n",
       "    .dataframe thead th {\n",
       "        text-align: right;\n",
       "    }\n",
       "</style>\n",
       "<table border=\"1\" class=\"dataframe\">\n",
       "  <thead>\n",
       "    <tr style=\"text-align: right;\">\n",
       "      <th></th>\n",
       "      <th>Open</th>\n",
       "      <th>High</th>\n",
       "      <th>Low</th>\n",
       "      <th>Close</th>\n",
       "      <th>Adj Close</th>\n",
       "      <th>Volume</th>\n",
       "    </tr>\n",
       "    <tr>\n",
       "      <th>Date</th>\n",
       "      <th></th>\n",
       "      <th></th>\n",
       "      <th></th>\n",
       "      <th></th>\n",
       "      <th></th>\n",
       "      <th></th>\n",
       "    </tr>\n",
       "  </thead>\n",
       "  <tbody>\n",
       "    <tr>\n",
       "      <th>2000-11-01</th>\n",
       "      <td>1.388393</td>\n",
       "      <td>1.491071</td>\n",
       "      <td>1.388393</td>\n",
       "      <td>1.464286</td>\n",
       "      <td>1.282757</td>\n",
       "      <td>143841600.0</td>\n",
       "    </tr>\n",
       "    <tr>\n",
       "      <th>2000-11-02</th>\n",
       "      <td>1.508929</td>\n",
       "      <td>1.602679</td>\n",
       "      <td>1.504464</td>\n",
       "      <td>1.593750</td>\n",
       "      <td>1.396171</td>\n",
       "      <td>147673400.0</td>\n",
       "    </tr>\n",
       "    <tr>\n",
       "      <th>2000-11-03</th>\n",
       "      <td>1.642857</td>\n",
       "      <td>1.642857</td>\n",
       "      <td>1.566964</td>\n",
       "      <td>1.589286</td>\n",
       "      <td>1.392261</td>\n",
       "      <td>128955400.0</td>\n",
       "    </tr>\n",
       "    <tr>\n",
       "      <th>2000-11-06</th>\n",
       "      <td>1.602679</td>\n",
       "      <td>1.616071</td>\n",
       "      <td>1.491071</td>\n",
       "      <td>1.531250</td>\n",
       "      <td>1.341420</td>\n",
       "      <td>98369600.0</td>\n",
       "    </tr>\n",
       "    <tr>\n",
       "      <th>2000-11-07</th>\n",
       "      <td>1.535714</td>\n",
       "      <td>1.558036</td>\n",
       "      <td>1.486607</td>\n",
       "      <td>1.522321</td>\n",
       "      <td>1.333598</td>\n",
       "      <td>75490800.0</td>\n",
       "    </tr>\n",
       "    <tr>\n",
       "      <th>2000-11-08</th>\n",
       "      <td>1.526786</td>\n",
       "      <td>1.531250</td>\n",
       "      <td>1.415179</td>\n",
       "      <td>1.433036</td>\n",
       "      <td>1.255381</td>\n",
       "      <td>105522200.0</td>\n",
       "    </tr>\n",
       "    <tr>\n",
       "      <th>2000-11-09</th>\n",
       "      <td>1.419643</td>\n",
       "      <td>1.464286</td>\n",
       "      <td>1.361607</td>\n",
       "      <td>1.441964</td>\n",
       "      <td>1.263203</td>\n",
       "      <td>119208600.0</td>\n",
       "    </tr>\n",
       "    <tr>\n",
       "      <th>2000-11-10</th>\n",
       "      <td>1.382807</td>\n",
       "      <td>1.419643</td>\n",
       "      <td>1.361607</td>\n",
       "      <td>1.361607</td>\n",
       "      <td>1.192808</td>\n",
       "      <td>105562800.0</td>\n",
       "    </tr>\n",
       "    <tr>\n",
       "      <th>2000-11-13</th>\n",
       "      <td>1.339286</td>\n",
       "      <td>1.428571</td>\n",
       "      <td>1.303571</td>\n",
       "      <td>1.383929</td>\n",
       "      <td>1.212362</td>\n",
       "      <td>107954000.0</td>\n",
       "    </tr>\n",
       "    <tr>\n",
       "      <th>2000-11-14</th>\n",
       "      <td>1.424107</td>\n",
       "      <td>1.464286</td>\n",
       "      <td>1.397321</td>\n",
       "      <td>1.446429</td>\n",
       "      <td>1.267114</td>\n",
       "      <td>102250400.0</td>\n",
       "    </tr>\n",
       "    <tr>\n",
       "      <th>2000-11-15</th>\n",
       "      <td>1.430800</td>\n",
       "      <td>1.441964</td>\n",
       "      <td>1.375000</td>\n",
       "      <td>1.419643</td>\n",
       "      <td>1.243648</td>\n",
       "      <td>70589400.0</td>\n",
       "    </tr>\n",
       "    <tr>\n",
       "      <th>2000-11-16</th>\n",
       "      <td>1.392857</td>\n",
       "      <td>1.415179</td>\n",
       "      <td>1.348214</td>\n",
       "      <td>1.357143</td>\n",
       "      <td>1.188897</td>\n",
       "      <td>59843000.0</td>\n",
       "    </tr>\n",
       "    <tr>\n",
       "      <th>2000-11-17</th>\n",
       "      <td>1.370536</td>\n",
       "      <td>1.375000</td>\n",
       "      <td>1.303571</td>\n",
       "      <td>1.321429</td>\n",
       "      <td>1.157610</td>\n",
       "      <td>111545000.0</td>\n",
       "    </tr>\n",
       "    <tr>\n",
       "      <th>2000-11-20</th>\n",
       "      <td>1.328121</td>\n",
       "      <td>1.392857</td>\n",
       "      <td>1.303571</td>\n",
       "      <td>1.352679</td>\n",
       "      <td>1.184986</td>\n",
       "      <td>102016600.0</td>\n",
       "    </tr>\n",
       "    <tr>\n",
       "      <th>2000-11-21</th>\n",
       "      <td>1.370536</td>\n",
       "      <td>1.392857</td>\n",
       "      <td>1.339286</td>\n",
       "      <td>1.343750</td>\n",
       "      <td>1.177164</td>\n",
       "      <td>75488000.0</td>\n",
       "    </tr>\n",
       "    <tr>\n",
       "      <th>2000-11-22</th>\n",
       "      <td>1.343750</td>\n",
       "      <td>1.366071</td>\n",
       "      <td>1.312500</td>\n",
       "      <td>1.321429</td>\n",
       "      <td>1.157610</td>\n",
       "      <td>70133000.0</td>\n",
       "    </tr>\n",
       "    <tr>\n",
       "      <th>2000-11-24</th>\n",
       "      <td>1.347093</td>\n",
       "      <td>1.392857</td>\n",
       "      <td>1.343750</td>\n",
       "      <td>1.379464</td>\n",
       "      <td>1.208451</td>\n",
       "      <td>40233200.0</td>\n",
       "    </tr>\n",
       "    <tr>\n",
       "      <th>2000-11-27</th>\n",
       "      <td>1.419643</td>\n",
       "      <td>1.424107</td>\n",
       "      <td>1.321429</td>\n",
       "      <td>1.334821</td>\n",
       "      <td>1.169342</td>\n",
       "      <td>64698200.0</td>\n",
       "    </tr>\n",
       "    <tr>\n",
       "      <th>2000-11-28</th>\n",
       "      <td>1.334821</td>\n",
       "      <td>1.357143</td>\n",
       "      <td>1.281250</td>\n",
       "      <td>1.287943</td>\n",
       "      <td>1.128275</td>\n",
       "      <td>67281200.0</td>\n",
       "    </tr>\n",
       "    <tr>\n",
       "      <th>2000-11-29</th>\n",
       "      <td>1.292407</td>\n",
       "      <td>1.308036</td>\n",
       "      <td>1.232143</td>\n",
       "      <td>1.254464</td>\n",
       "      <td>1.098947</td>\n",
       "      <td>123037600.0</td>\n",
       "    </tr>\n",
       "    <tr>\n",
       "      <th>2000-11-30</th>\n",
       "      <td>1.191964</td>\n",
       "      <td>1.214286</td>\n",
       "      <td>1.151786</td>\n",
       "      <td>1.178571</td>\n",
       "      <td>1.032463</td>\n",
       "      <td>202399400.0</td>\n",
       "    </tr>\n",
       "  </tbody>\n",
       "</table>\n",
       "</div>"
      ],
      "text/plain": [
       "                Open      High       Low     Close  Adj Close       Volume\n",
       "Date                                                                      \n",
       "2000-11-01  1.388393  1.491071  1.388393  1.464286   1.282757  143841600.0\n",
       "2000-11-02  1.508929  1.602679  1.504464  1.593750   1.396171  147673400.0\n",
       "2000-11-03  1.642857  1.642857  1.566964  1.589286   1.392261  128955400.0\n",
       "2000-11-06  1.602679  1.616071  1.491071  1.531250   1.341420   98369600.0\n",
       "2000-11-07  1.535714  1.558036  1.486607  1.522321   1.333598   75490800.0\n",
       "2000-11-08  1.526786  1.531250  1.415179  1.433036   1.255381  105522200.0\n",
       "2000-11-09  1.419643  1.464286  1.361607  1.441964   1.263203  119208600.0\n",
       "2000-11-10  1.382807  1.419643  1.361607  1.361607   1.192808  105562800.0\n",
       "2000-11-13  1.339286  1.428571  1.303571  1.383929   1.212362  107954000.0\n",
       "2000-11-14  1.424107  1.464286  1.397321  1.446429   1.267114  102250400.0\n",
       "2000-11-15  1.430800  1.441964  1.375000  1.419643   1.243648   70589400.0\n",
       "2000-11-16  1.392857  1.415179  1.348214  1.357143   1.188897   59843000.0\n",
       "2000-11-17  1.370536  1.375000  1.303571  1.321429   1.157610  111545000.0\n",
       "2000-11-20  1.328121  1.392857  1.303571  1.352679   1.184986  102016600.0\n",
       "2000-11-21  1.370536  1.392857  1.339286  1.343750   1.177164   75488000.0\n",
       "2000-11-22  1.343750  1.366071  1.312500  1.321429   1.157610   70133000.0\n",
       "2000-11-24  1.347093  1.392857  1.343750  1.379464   1.208451   40233200.0\n",
       "2000-11-27  1.419643  1.424107  1.321429  1.334821   1.169342   64698200.0\n",
       "2000-11-28  1.334821  1.357143  1.281250  1.287943   1.128275   67281200.0\n",
       "2000-11-29  1.292407  1.308036  1.232143  1.254464   1.098947  123037600.0\n",
       "2000-11-30  1.191964  1.214286  1.151786  1.178571   1.032463  202399400.0"
      ]
     },
     "execution_count": 95,
     "metadata": {},
     "output_type": "execute_result"
    }
   ],
   "source": [
    "aapl['Date'] = pd.to_datetime(aapl['Date'])\n",
    "aapl.set_index('Date', inplace=True)\n",
    "aapl.loc['2000-11']"
   ]
  },
  {
   "cell_type": "code",
   "execution_count": 88,
   "metadata": {},
   "outputs": [
    {
     "name": "stdout",
     "output_type": "stream",
     "text": [
      "매수가 : 1.388393, 매도가 : 1.820714, 수익율 : 1.3113822959349406\n",
      "매수가 : 1.260714, 매도가 : 1.733571, 수익율 : 1.375070793217177\n",
      "매수가 : 1.138571, 매도가 : 1.015714, 수익율 : 0.8920954424449595\n",
      "매수가 : 1.630714, 매도가 : 1.841429, 수익율 : 1.1292164045933253\n",
      "매수가 : 3.75, 매도가 : 5.151429, 수익율 : 1.3737144000000001\n",
      "매수가 : 8.177143, 매도가 : 10.055715, 수익율 : 1.2297345173002356\n",
      "매수가 : 11.585714, 매도가 : 14.257143, 수익율 : 1.2305795741203347\n",
      "매수가 : 26.942858, 매도가 : 24.85, 수익율 : 0.9223223460554927\n",
      "매수가 : 15.132857, 매도가 : 17.975714, 수익율 : 1.1878598998193137\n",
      "매수가 : 27.114286, 매도가 : 37.298573, 수익율 : 1.3756059444087887\n",
      "매수가 : 43.174286, 매도가 : 50.01857, 수익율 : 1.1585268601778382\n",
      "매수가 : 56.772858, 매도가 : 83.425713, 수익율 : 1.4694647396472449\n",
      "매수가 : 85.459999, 매도가 : 63.254284, 수익율 : 0.7401624706314355\n",
      "매수가 : 74.860001, 매도가 : 84.298569, 수익율 : 1.1260829264482644\n",
      "매수가 : 108.220001, 매도가 : 125.150002, 수익율 : 1.1564405917904215\n",
      "매수가 : 120.800003, 매도가 : 93.739998, 수익율 : 0.7759933416557945\n",
      "매수가 : 113.459999, 매도가 : 143.649994, 수익율 : 1.2660849221407098\n",
      "매수가 : 169.869995, 매도가 : 165.259995, 수익율 : 0.9728615992482958\n",
      "매수가 : 219.050003, 매도가 : 200.669998, 수익율 : 0.916092194712273\n"
     ]
    },
    {
     "data": {
      "text/plain": [
       "8.177103601339539"
      ]
     },
     "execution_count": 88,
     "metadata": {},
     "output_type": "execute_result"
    }
   ],
   "source": [
    "six_month(aapl, 2000, 2019, 11)"
   ]
  },
  {
   "cell_type": "code",
   "execution_count": 76,
   "metadata": {},
   "outputs": [
    {
     "data": {
      "text/html": [
       "<div>\n",
       "<style scoped>\n",
       "    .dataframe tbody tr th:only-of-type {\n",
       "        vertical-align: middle;\n",
       "    }\n",
       "\n",
       "    .dataframe tbody tr th {\n",
       "        vertical-align: top;\n",
       "    }\n",
       "\n",
       "    .dataframe thead th {\n",
       "        text-align: right;\n",
       "    }\n",
       "</style>\n",
       "<table border=\"1\" class=\"dataframe\">\n",
       "  <thead>\n",
       "    <tr style=\"text-align: right;\">\n",
       "      <th></th>\n",
       "      <th>Open</th>\n",
       "      <th>High</th>\n",
       "      <th>Low</th>\n",
       "      <th>Close</th>\n",
       "      <th>Adj Close</th>\n",
       "      <th>Volume</th>\n",
       "    </tr>\n",
       "    <tr>\n",
       "      <th>Date</th>\n",
       "      <th></th>\n",
       "      <th></th>\n",
       "      <th></th>\n",
       "      <th></th>\n",
       "      <th></th>\n",
       "      <th></th>\n",
       "    </tr>\n",
       "  </thead>\n",
       "  <tbody>\n",
       "    <tr>\n",
       "      <th>1997-05-15</th>\n",
       "      <td>2.4375</td>\n",
       "      <td>2.5</td>\n",
       "      <td>1.927083</td>\n",
       "      <td>1.958333</td>\n",
       "      <td>1.958333</td>\n",
       "      <td>72156000</td>\n",
       "    </tr>\n",
       "  </tbody>\n",
       "</table>\n",
       "</div>"
      ],
      "text/plain": [
       "              Open  High       Low     Close  Adj Close    Volume\n",
       "Date                                                             \n",
       "1997-05-15  2.4375   2.5  1.927083  1.958333   1.958333  72156000"
      ]
     },
     "execution_count": 76,
     "metadata": {},
     "output_type": "execute_result"
    }
   ],
   "source": [
    "df.head(1)"
   ]
  },
  {
   "cell_type": "code",
   "execution_count": 77,
   "metadata": {},
   "outputs": [
    {
     "data": {
      "text/html": [
       "<div>\n",
       "<style scoped>\n",
       "    .dataframe tbody tr th:only-of-type {\n",
       "        vertical-align: middle;\n",
       "    }\n",
       "\n",
       "    .dataframe tbody tr th {\n",
       "        vertical-align: top;\n",
       "    }\n",
       "\n",
       "    .dataframe thead th {\n",
       "        text-align: right;\n",
       "    }\n",
       "</style>\n",
       "<table border=\"1\" class=\"dataframe\">\n",
       "  <thead>\n",
       "    <tr style=\"text-align: right;\">\n",
       "      <th></th>\n",
       "      <th>Date</th>\n",
       "      <th>Open</th>\n",
       "      <th>High</th>\n",
       "      <th>Low</th>\n",
       "      <th>Close</th>\n",
       "      <th>Adj Close</th>\n",
       "      <th>Volume</th>\n",
       "    </tr>\n",
       "  </thead>\n",
       "  <tbody>\n",
       "    <tr>\n",
       "      <th>0</th>\n",
       "      <td>1980-12-12</td>\n",
       "      <td>0.513393</td>\n",
       "      <td>0.515625</td>\n",
       "      <td>0.513393</td>\n",
       "      <td>0.513393</td>\n",
       "      <td>0.410525</td>\n",
       "      <td>117258400.0</td>\n",
       "    </tr>\n",
       "  </tbody>\n",
       "</table>\n",
       "</div>"
      ],
      "text/plain": [
       "         Date      Open      High       Low     Close  Adj Close       Volume\n",
       "0  1980-12-12  0.513393  0.515625  0.513393  0.513393   0.410525  117258400.0"
      ]
     },
     "execution_count": 77,
     "metadata": {},
     "output_type": "execute_result"
    }
   ],
   "source": [
    "df2 = pd.read_csv(\"../../csv/AAPL.csv\")\n",
    "df2.head(1)"
   ]
  },
  {
   "cell_type": "code",
   "execution_count": 89,
   "metadata": {},
   "outputs": [],
   "source": [
    "df2['Date'] = pd.to_datetime(df2['Date'])"
   ]
  },
  {
   "cell_type": "code",
   "execution_count": 90,
   "metadata": {},
   "outputs": [],
   "source": [
    "df2.set_index('Date', inplace=True)"
   ]
  },
  {
   "cell_type": "code",
   "execution_count": 91,
   "metadata": {},
   "outputs": [
    {
     "data": {
      "text/html": [
       "<div>\n",
       "<style scoped>\n",
       "    .dataframe tbody tr th:only-of-type {\n",
       "        vertical-align: middle;\n",
       "    }\n",
       "\n",
       "    .dataframe tbody tr th {\n",
       "        vertical-align: top;\n",
       "    }\n",
       "\n",
       "    .dataframe thead th {\n",
       "        text-align: right;\n",
       "    }\n",
       "</style>\n",
       "<table border=\"1\" class=\"dataframe\">\n",
       "  <thead>\n",
       "    <tr style=\"text-align: right;\">\n",
       "      <th></th>\n",
       "      <th>Open</th>\n",
       "      <th>High</th>\n",
       "      <th>Low</th>\n",
       "      <th>Close</th>\n",
       "      <th>Adj Close</th>\n",
       "      <th>Volume</th>\n",
       "    </tr>\n",
       "    <tr>\n",
       "      <th>Date</th>\n",
       "      <th></th>\n",
       "      <th></th>\n",
       "      <th></th>\n",
       "      <th></th>\n",
       "      <th></th>\n",
       "      <th></th>\n",
       "    </tr>\n",
       "  </thead>\n",
       "  <tbody>\n",
       "    <tr>\n",
       "      <th>2000-11-01</th>\n",
       "      <td>1.388393</td>\n",
       "      <td>1.491071</td>\n",
       "      <td>1.388393</td>\n",
       "      <td>1.464286</td>\n",
       "      <td>1.282757</td>\n",
       "      <td>143841600.0</td>\n",
       "    </tr>\n",
       "    <tr>\n",
       "      <th>2000-11-02</th>\n",
       "      <td>1.508929</td>\n",
       "      <td>1.602679</td>\n",
       "      <td>1.504464</td>\n",
       "      <td>1.593750</td>\n",
       "      <td>1.396171</td>\n",
       "      <td>147673400.0</td>\n",
       "    </tr>\n",
       "    <tr>\n",
       "      <th>2000-11-03</th>\n",
       "      <td>1.642857</td>\n",
       "      <td>1.642857</td>\n",
       "      <td>1.566964</td>\n",
       "      <td>1.589286</td>\n",
       "      <td>1.392261</td>\n",
       "      <td>128955400.0</td>\n",
       "    </tr>\n",
       "    <tr>\n",
       "      <th>2000-11-06</th>\n",
       "      <td>1.602679</td>\n",
       "      <td>1.616071</td>\n",
       "      <td>1.491071</td>\n",
       "      <td>1.531250</td>\n",
       "      <td>1.341420</td>\n",
       "      <td>98369600.0</td>\n",
       "    </tr>\n",
       "    <tr>\n",
       "      <th>2000-11-07</th>\n",
       "      <td>1.535714</td>\n",
       "      <td>1.558036</td>\n",
       "      <td>1.486607</td>\n",
       "      <td>1.522321</td>\n",
       "      <td>1.333598</td>\n",
       "      <td>75490800.0</td>\n",
       "    </tr>\n",
       "    <tr>\n",
       "      <th>2000-11-08</th>\n",
       "      <td>1.526786</td>\n",
       "      <td>1.531250</td>\n",
       "      <td>1.415179</td>\n",
       "      <td>1.433036</td>\n",
       "      <td>1.255381</td>\n",
       "      <td>105522200.0</td>\n",
       "    </tr>\n",
       "    <tr>\n",
       "      <th>2000-11-09</th>\n",
       "      <td>1.419643</td>\n",
       "      <td>1.464286</td>\n",
       "      <td>1.361607</td>\n",
       "      <td>1.441964</td>\n",
       "      <td>1.263203</td>\n",
       "      <td>119208600.0</td>\n",
       "    </tr>\n",
       "    <tr>\n",
       "      <th>2000-11-10</th>\n",
       "      <td>1.382807</td>\n",
       "      <td>1.419643</td>\n",
       "      <td>1.361607</td>\n",
       "      <td>1.361607</td>\n",
       "      <td>1.192808</td>\n",
       "      <td>105562800.0</td>\n",
       "    </tr>\n",
       "    <tr>\n",
       "      <th>2000-11-13</th>\n",
       "      <td>1.339286</td>\n",
       "      <td>1.428571</td>\n",
       "      <td>1.303571</td>\n",
       "      <td>1.383929</td>\n",
       "      <td>1.212362</td>\n",
       "      <td>107954000.0</td>\n",
       "    </tr>\n",
       "    <tr>\n",
       "      <th>2000-11-14</th>\n",
       "      <td>1.424107</td>\n",
       "      <td>1.464286</td>\n",
       "      <td>1.397321</td>\n",
       "      <td>1.446429</td>\n",
       "      <td>1.267114</td>\n",
       "      <td>102250400.0</td>\n",
       "    </tr>\n",
       "    <tr>\n",
       "      <th>2000-11-15</th>\n",
       "      <td>1.430800</td>\n",
       "      <td>1.441964</td>\n",
       "      <td>1.375000</td>\n",
       "      <td>1.419643</td>\n",
       "      <td>1.243648</td>\n",
       "      <td>70589400.0</td>\n",
       "    </tr>\n",
       "    <tr>\n",
       "      <th>2000-11-16</th>\n",
       "      <td>1.392857</td>\n",
       "      <td>1.415179</td>\n",
       "      <td>1.348214</td>\n",
       "      <td>1.357143</td>\n",
       "      <td>1.188897</td>\n",
       "      <td>59843000.0</td>\n",
       "    </tr>\n",
       "    <tr>\n",
       "      <th>2000-11-17</th>\n",
       "      <td>1.370536</td>\n",
       "      <td>1.375000</td>\n",
       "      <td>1.303571</td>\n",
       "      <td>1.321429</td>\n",
       "      <td>1.157610</td>\n",
       "      <td>111545000.0</td>\n",
       "    </tr>\n",
       "    <tr>\n",
       "      <th>2000-11-20</th>\n",
       "      <td>1.328121</td>\n",
       "      <td>1.392857</td>\n",
       "      <td>1.303571</td>\n",
       "      <td>1.352679</td>\n",
       "      <td>1.184986</td>\n",
       "      <td>102016600.0</td>\n",
       "    </tr>\n",
       "    <tr>\n",
       "      <th>2000-11-21</th>\n",
       "      <td>1.370536</td>\n",
       "      <td>1.392857</td>\n",
       "      <td>1.339286</td>\n",
       "      <td>1.343750</td>\n",
       "      <td>1.177164</td>\n",
       "      <td>75488000.0</td>\n",
       "    </tr>\n",
       "    <tr>\n",
       "      <th>2000-11-22</th>\n",
       "      <td>1.343750</td>\n",
       "      <td>1.366071</td>\n",
       "      <td>1.312500</td>\n",
       "      <td>1.321429</td>\n",
       "      <td>1.157610</td>\n",
       "      <td>70133000.0</td>\n",
       "    </tr>\n",
       "    <tr>\n",
       "      <th>2000-11-24</th>\n",
       "      <td>1.347093</td>\n",
       "      <td>1.392857</td>\n",
       "      <td>1.343750</td>\n",
       "      <td>1.379464</td>\n",
       "      <td>1.208451</td>\n",
       "      <td>40233200.0</td>\n",
       "    </tr>\n",
       "    <tr>\n",
       "      <th>2000-11-27</th>\n",
       "      <td>1.419643</td>\n",
       "      <td>1.424107</td>\n",
       "      <td>1.321429</td>\n",
       "      <td>1.334821</td>\n",
       "      <td>1.169342</td>\n",
       "      <td>64698200.0</td>\n",
       "    </tr>\n",
       "    <tr>\n",
       "      <th>2000-11-28</th>\n",
       "      <td>1.334821</td>\n",
       "      <td>1.357143</td>\n",
       "      <td>1.281250</td>\n",
       "      <td>1.287943</td>\n",
       "      <td>1.128275</td>\n",
       "      <td>67281200.0</td>\n",
       "    </tr>\n",
       "    <tr>\n",
       "      <th>2000-11-29</th>\n",
       "      <td>1.292407</td>\n",
       "      <td>1.308036</td>\n",
       "      <td>1.232143</td>\n",
       "      <td>1.254464</td>\n",
       "      <td>1.098947</td>\n",
       "      <td>123037600.0</td>\n",
       "    </tr>\n",
       "    <tr>\n",
       "      <th>2000-11-30</th>\n",
       "      <td>1.191964</td>\n",
       "      <td>1.214286</td>\n",
       "      <td>1.151786</td>\n",
       "      <td>1.178571</td>\n",
       "      <td>1.032463</td>\n",
       "      <td>202399400.0</td>\n",
       "    </tr>\n",
       "  </tbody>\n",
       "</table>\n",
       "</div>"
      ],
      "text/plain": [
       "                Open      High       Low     Close  Adj Close       Volume\n",
       "Date                                                                      \n",
       "2000-11-01  1.388393  1.491071  1.388393  1.464286   1.282757  143841600.0\n",
       "2000-11-02  1.508929  1.602679  1.504464  1.593750   1.396171  147673400.0\n",
       "2000-11-03  1.642857  1.642857  1.566964  1.589286   1.392261  128955400.0\n",
       "2000-11-06  1.602679  1.616071  1.491071  1.531250   1.341420   98369600.0\n",
       "2000-11-07  1.535714  1.558036  1.486607  1.522321   1.333598   75490800.0\n",
       "2000-11-08  1.526786  1.531250  1.415179  1.433036   1.255381  105522200.0\n",
       "2000-11-09  1.419643  1.464286  1.361607  1.441964   1.263203  119208600.0\n",
       "2000-11-10  1.382807  1.419643  1.361607  1.361607   1.192808  105562800.0\n",
       "2000-11-13  1.339286  1.428571  1.303571  1.383929   1.212362  107954000.0\n",
       "2000-11-14  1.424107  1.464286  1.397321  1.446429   1.267114  102250400.0\n",
       "2000-11-15  1.430800  1.441964  1.375000  1.419643   1.243648   70589400.0\n",
       "2000-11-16  1.392857  1.415179  1.348214  1.357143   1.188897   59843000.0\n",
       "2000-11-17  1.370536  1.375000  1.303571  1.321429   1.157610  111545000.0\n",
       "2000-11-20  1.328121  1.392857  1.303571  1.352679   1.184986  102016600.0\n",
       "2000-11-21  1.370536  1.392857  1.339286  1.343750   1.177164   75488000.0\n",
       "2000-11-22  1.343750  1.366071  1.312500  1.321429   1.157610   70133000.0\n",
       "2000-11-24  1.347093  1.392857  1.343750  1.379464   1.208451   40233200.0\n",
       "2000-11-27  1.419643  1.424107  1.321429  1.334821   1.169342   64698200.0\n",
       "2000-11-28  1.334821  1.357143  1.281250  1.287943   1.128275   67281200.0\n",
       "2000-11-29  1.292407  1.308036  1.232143  1.254464   1.098947  123037600.0\n",
       "2000-11-30  1.191964  1.214286  1.151786  1.178571   1.032463  202399400.0"
      ]
     },
     "execution_count": 91,
     "metadata": {},
     "output_type": "execute_result"
    }
   ],
   "source": [
    "df2.loc['2000-11']"
   ]
  },
  {
   "cell_type": "code",
   "execution_count": 80,
   "metadata": {},
   "outputs": [
    {
     "data": {
      "text/plain": [
       "False"
      ]
     },
     "execution_count": 80,
     "metadata": {},
     "output_type": "execute_result"
    }
   ],
   "source": [
    "# 컬럼에 Date가 존재하는가?\n",
    "'Date' in df.columns"
   ]
  },
  {
   "cell_type": "code",
   "execution_count": 81,
   "metadata": {},
   "outputs": [],
   "source": [
    "import yfinance as yf"
   ]
  },
  {
   "cell_type": "code",
   "execution_count": 83,
   "metadata": {},
   "outputs": [
    {
     "name": "stdout",
     "output_type": "stream",
     "text": [
      "[*********************100%***********************]  1 of 1 completed\n"
     ]
    }
   ],
   "source": [
    "aapl = yf.download('AAPL', start = '2018-01-01')"
   ]
  },
  {
   "cell_type": "code",
   "execution_count": 84,
   "metadata": {},
   "outputs": [
    {
     "data": {
      "text/plain": [
       "DatetimeIndex(['2018-01-02', '2018-01-03', '2018-01-04', '2018-01-05',\n",
       "               '2018-01-08', '2018-01-09', '2018-01-10', '2018-01-11',\n",
       "               '2018-01-12', '2018-01-16',\n",
       "               ...\n",
       "               '2023-11-17', '2023-11-20', '2023-11-21', '2023-11-22',\n",
       "               '2023-11-24', '2023-11-27', '2023-11-28', '2023-11-29',\n",
       "               '2023-11-30', '2023-12-01'],\n",
       "              dtype='datetime64[ns]', name='Date', length=1490, freq=None)"
      ]
     },
     "execution_count": 84,
     "metadata": {},
     "output_type": "execute_result"
    }
   ],
   "source": [
    "aapl.index"
   ]
  },
  {
   "cell_type": "code",
   "execution_count": 85,
   "metadata": {},
   "outputs": [
    {
     "data": {
      "text/plain": [
       "DatetimeIndex(['2018-01-02', '2018-01-03', '2018-01-04', '2018-01-05',\n",
       "               '2018-01-08', '2018-01-09', '2018-01-10', '2018-01-11',\n",
       "               '2018-01-12', '2018-01-16',\n",
       "               ...\n",
       "               '2023-11-17', '2023-11-20', '2023-11-21', '2023-11-22',\n",
       "               '2023-11-24', '2023-11-27', '2023-11-28', '2023-11-29',\n",
       "               '2023-11-30', '2023-12-01'],\n",
       "              dtype='datetime64[ns]', name='Date', length=1490, freq=None)"
      ]
     },
     "execution_count": 85,
     "metadata": {},
     "output_type": "execute_result"
    }
   ],
   "source": [
    "pd.to_datetime(aapl.index)"
   ]
  },
  {
   "cell_type": "code",
   "execution_count": 99,
   "metadata": {},
   "outputs": [
    {
     "name": "stdout",
     "output_type": "stream",
     "text": [
      "[*********************100%***********************]  1 of 1 completed\n"
     ]
    },
    {
     "data": {
      "text/plain": [
       "[1.0543809925788026,\n",
       " 2.173266872452559,\n",
       " 1.71736804647562,\n",
       " 2.4587242797213382,\n",
       " 4.568705112506093,\n",
       " 3.9235951237178646,\n",
       " 6.06033759151672,\n",
       " 2.862781223580768,\n",
       " 3.8872710511276565,\n",
       " 2.78491330473704,\n",
       " 1.351706291505096,\n",
       " 1.2803204936281518]"
      ]
     },
     "execution_count": 99,
     "metadata": {},
     "output_type": "execute_result"
    }
   ],
   "source": [
    "# 투자 기간은 고정 투자 월을 1월 ~ 12월 수익율 비교\n",
    "df = yf.download('GOOG', start='2009-01-01')\n",
    "month_rtns = []\n",
    "\n",
    "for i in range(1, 13, 1):\n",
    "    rtn = six_month(df, 2009, 2019, i)\n",
    "    month_rtns.append(rtn)\n",
    "\n",
    "month_rtns"
   ]
  },
  {
   "cell_type": "code",
   "execution_count": null,
   "metadata": {},
   "outputs": [],
   "source": []
  }
 ],
 "metadata": {
  "kernelspec": {
   "display_name": "Python 3",
   "language": "python",
   "name": "python3"
  },
  "language_info": {
   "codemirror_mode": {
    "name": "ipython",
    "version": 3
   },
   "file_extension": ".py",
   "mimetype": "text/x-python",
   "name": "python",
   "nbconvert_exporter": "python",
   "pygments_lexer": "ipython3",
   "version": "3.11.1"
  }
 },
 "nbformat": 4,
 "nbformat_minor": 2
}
