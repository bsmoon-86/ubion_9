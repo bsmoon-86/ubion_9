{
 "cells": [
  {
   "cell_type": "markdown",
   "metadata": {},
   "source": [
    "### 상대모멘텀 \n",
    "- 10개 주식 데이터를 이용\n",
    "1. 월초부터 월말의 수정주가를 이용하여 월별 수익율\n",
    "2. 월말의 수익율이 높은 순서 중 1개의 주식을 선택\n",
    "3. 자른 종목만 투자하는 경우 수익율 계산"
   ]
  },
  {
   "cell_type": "code",
   "execution_count": null,
   "metadata": {},
   "outputs": [],
   "source": [
    "import pandas as pd\n",
    "from datetime import datetime"
   ]
  },
  {
   "cell_type": "code",
   "execution_count": null,
   "metadata": {},
   "outputs": [],
   "source": [
    "# 월별 수익율 \n",
    "def create_1M_rtn(sample, ticker, start = '2010-01-01', col = 'Adj Close'):\n",
    "    # CODE라는 컬럼을 생성 -> ticker 대입 \n",
    "    sample['CODE'] = ticker\n",
    "    if 'Date' in sample.columns:\n",
    "        # copy() : 복사본 생성 \n",
    "        sample = sample.loc[sample['Date'] >= start, \n",
    "                            ['Date', 'CODE', col]].copy()\n",
    "        # sample의 Date를 시계열로 변경하고 인덱스로 변경\n",
    "        sample['Date'] = pd.to_datetime(sample['Date'])\n",
    "        sample.set_index('Date', inplace=True)\n",
    "    else:\n",
    "        sample.index = pd.to_datetime(sample.index)\n",
    "        sample = sample.loc[start:, ['CODE', col]].copy()\n",
    "    # 기준년월 컬럼을 생성 \n",
    "    sample['STD-YM'] = sample.index.map(\n",
    "        lambda x : x.strftime('%Y-%m')\n",
    "    )\n",
    "    sample['1m_rtn'] = 0\n",
    "    #  중복데이터를 제거하고 고유한 값들만 list형태로 생성\n",
    "    ym_list = sample['STD-YM'].unique() \n",
    "    return sample, ym_list\n"
   ]
  },
  {
   "cell_type": "code",
   "execution_count": null,
   "metadata": {},
   "outputs": [],
   "source": [
    "df = pd.read_csv('../../csv/AAPL.csv')\n",
    "df2 = pd.read_csv('../../csv/AMZN.csv', index_col='Date')"
   ]
  },
  {
   "cell_type": "code",
   "execution_count": null,
   "metadata": {},
   "outputs": [],
   "source": [
    "sample_df, ym_list = create_1M_rtn(df, 'AAPL')"
   ]
  },
  {
   "cell_type": "code",
   "execution_count": null,
   "metadata": {},
   "outputs": [],
   "source": [
    "sample_df.head()"
   ]
  },
  {
   "cell_type": "code",
   "execution_count": null,
   "metadata": {},
   "outputs": [],
   "source": [
    "ym_list"
   ]
  },
  {
   "cell_type": "code",
   "execution_count": null,
   "metadata": {},
   "outputs": [],
   "source": [
    "sample_df2, ym_list2 = create_1M_rtn(df2, 'AMZM')"
   ]
  },
  {
   "cell_type": "code",
   "execution_count": null,
   "metadata": {},
   "outputs": [],
   "source": [
    "sample_df2.head()"
   ]
  },
  {
   "cell_type": "code",
   "execution_count": null,
   "metadata": {},
   "outputs": [],
   "source": [
    "ym_list2"
   ]
  },
  {
   "cell_type": "code",
   "execution_count": null,
   "metadata": {},
   "outputs": [],
   "source": [
    "def create_trade_book(sample, code):\n",
    "    # 새로운 데이터프레임을 생성\n",
    "    book = pd.DataFrame()\n",
    "    book = sample[code].copy()\n",
    "    book['STD-YM'] = book.index.map(\n",
    "        lambda x : x.strftime('%Y-%m')\n",
    "    )\n",
    "    for c in code:\n",
    "        book['p'+c] = ''\n",
    "        book['r'+c] = ''\n",
    "    return book"
   ]
  },
  {
   "cell_type": "code",
   "execution_count": null,
   "metadata": {},
   "outputs": [],
   "source": [
    "import os \n",
    "import glob\n",
    "import numpy as np"
   ]
  },
  {
   "cell_type": "code",
   "execution_count": null,
   "metadata": {},
   "outputs": [],
   "source": [
    "# 특정 경로에 있는 파일의 목록을 불러오기 \n",
    "os.listdir(\"../../data/\")\n",
    "\n",
    "files = glob.glob(\"../../data/*.csv\")\n",
    "\n",
    "# 새로운 데이터프레임을 생성 \n",
    "# 종목별 데이터프레임\n",
    "stock_df = pd.DataFrame()\n",
    "# 월말 데이터프레임 \n",
    "month_last_df = pd.DataFrame()\n",
    "\n",
    "for file in files:\n",
    "    folder, name = os.path.split(file)\n",
    "    # print(folder, name)\n",
    "    head, tail = os.path.splitext(name)\n",
    "    # print(head, tail)\n",
    "    # head를 create_1M_rtn 함수에 ticker로 이용하기 위해 생성\n",
    "\n",
    "    # 파일 로드 \n",
    "    read_df = pd.read_csv(file)\n",
    "\n",
    "    # 첫번째 함수를 로드 \n",
    "    price_df, ym_list = create_1M_rtn(read_df, head)\n",
    "\n",
    "    # 데이터프레임을 모두 결합\n",
    "    stock_df = pd.concat([stock_df, price_df], axis=0)\n",
    "\n",
    "    # 월별 상대모멘텀을 계산하기 위해 1개월간의 수익율 계산\n",
    "    for ym in ym_list:\n",
    "        flag = price_df['STD-YM'] == ym\n",
    "        m_rtn = price_df.loc[flag].iloc[-1, 1] / price_df.loc[flag].iloc[0, 1]\n",
    "        price_df.loc[flag, '1m_rtn'] = m_rtn\n",
    "        data = price_df.loc[flag, ['CODE', '1m_rtn']].tail(1)\n",
    "        month_last_df = pd.concat([month_last_df, data], axis=0)"
   ]
  },
  {
   "cell_type": "code",
   "execution_count": null,
   "metadata": {},
   "outputs": [],
   "source": [
    "month_last_df"
   ]
  },
  {
   "cell_type": "code",
   "execution_count": null,
   "metadata": {},
   "outputs": [],
   "source": [
    "# warning 메시지 제거 \n",
    "import warnings\n",
    "warnings.filterwarnings('ignore')"
   ]
  },
  {
   "cell_type": "code",
   "execution_count": null,
   "metadata": {},
   "outputs": [],
   "source": [
    "test = stock_df.copy()"
   ]
  },
  {
   "cell_type": "code",
   "execution_count": null,
   "metadata": {},
   "outputs": [],
   "source": [
    "# pivot_table() : groupby()와 흡사\n",
    "test = test[['CODE', 'Adj Close', '1m_rtn']]"
   ]
  },
  {
   "cell_type": "code",
   "execution_count": null,
   "metadata": {},
   "outputs": [],
   "source": [
    "test.reset_index(inplace=True)"
   ]
  },
  {
   "cell_type": "code",
   "execution_count": null,
   "metadata": {},
   "outputs": [],
   "source": [
    "test.groupby(['Date','CODE']).mean().unstack()"
   ]
  },
  {
   "cell_type": "code",
   "execution_count": null,
   "metadata": {},
   "outputs": [],
   "source": [
    "import matplotlib.pyplot as plt"
   ]
  },
  {
   "cell_type": "code",
   "execution_count": null,
   "metadata": {},
   "outputs": [],
   "source": [
    "test.pivot_table(\n",
    "    index='Date', \n",
    "    columns= 'CODE', \n",
    "    values= 'Adj Close', \n",
    "    aggfunc= ['mean', 'sum']\n",
    ")"
   ]
  },
  {
   "cell_type": "code",
   "execution_count": null,
   "metadata": {},
   "outputs": [],
   "source": [
    "month_rtn_df = month_last_df.copy()"
   ]
  },
  {
   "cell_type": "code",
   "execution_count": null,
   "metadata": {},
   "outputs": [],
   "source": [
    "month_rtn_df.reset_index(inplace=True)"
   ]
  },
  {
   "cell_type": "code",
   "execution_count": null,
   "metadata": {},
   "outputs": [],
   "source": [
    "month_rtn_df = month_rtn_df[['Date', 'CODE', '1m_rtn']]"
   ]
  },
  {
   "cell_type": "code",
   "execution_count": null,
   "metadata": {},
   "outputs": [],
   "source": [
    "month_rtn_df = month_rtn_df.pivot_table(index='Date', columns='CODE', values='1m_rtn')"
   ]
  },
  {
   "cell_type": "code",
   "execution_count": null,
   "metadata": {},
   "outputs": [],
   "source": [
    "month_rtn_df.head(1)"
   ]
  },
  {
   "cell_type": "code",
   "execution_count": null,
   "metadata": {},
   "outputs": [],
   "source": [
    "month_rtn_df = month_rtn_df.rank(axis=1, ascending=False, method='max', pct=True)"
   ]
  },
  {
   "cell_type": "code",
   "execution_count": null,
   "metadata": {},
   "outputs": [],
   "source": [
    "# 상위 15% 종목들만 선택\n",
    "month_rtn_df = month_rtn_df.where(month_rtn_df < 0.15, 0)"
   ]
  },
  {
   "cell_type": "code",
   "execution_count": null,
   "metadata": {},
   "outputs": [],
   "source": [
    "# 데이터 중 0 이 아니면 1로 대체\n",
    "month_rtn_df[month_rtn_df != 0] = 1"
   ]
  },
  {
   "cell_type": "code",
   "execution_count": null,
   "metadata": {},
   "outputs": [],
   "source": [
    "month_rtn_df"
   ]
  },
  {
   "cell_type": "code",
   "execution_count": null,
   "metadata": {},
   "outputs": [],
   "source": [
    "stock_codes = stock_df['CODE'].unique()"
   ]
  },
  {
   "cell_type": "code",
   "execution_count": null,
   "metadata": {},
   "outputs": [],
   "source": [
    "stock_codes"
   ]
  },
  {
   "cell_type": "code",
   "execution_count": null,
   "metadata": {},
   "outputs": [],
   "source": [
    "month_rtn_df.loc['2010-01-29 00:00:00', month_rtn_df.iloc[0] >= 1].index"
   ]
  },
  {
   "cell_type": "code",
   "execution_count": null,
   "metadata": {},
   "outputs": [],
   "source": [
    "sig_dict = dict()\n",
    "\n",
    "for date in month_rtn_df.index:\n",
    "    # 데이터가 1인 종목코드를 로드 \n",
    "    ticker_list = list(month_rtn_df.loc[date, month_rtn_df.loc[date] >= 1].index)\n",
    "    # print(ticker_list)\n",
    "    sig_dict[date] = ticker_list\n",
    "sig_dict"
   ]
  },
  {
   "cell_type": "code",
   "execution_count": null,
   "metadata": {},
   "outputs": [],
   "source": [
    "stock_df.head()"
   ]
  },
  {
   "cell_type": "code",
   "execution_count": null,
   "metadata": {},
   "outputs": [],
   "source": [
    "stock_c_matrix = stock_df.reset_index().pivot_table(\n",
    "    index='Date', \n",
    "    columns='CODE', \n",
    "    values=stock_df.columns[1])\n",
    "stock_c_matrix"
   ]
  },
  {
   "cell_type": "code",
   "execution_count": null,
   "metadata": {},
   "outputs": [],
   "source": [
    "book = create_trade_book(stock_c_matrix, stock_codes)\n"
   ]
  },
  {
   "cell_type": "code",
   "execution_count": 136,
   "metadata": {},
   "outputs": [
    {
     "data": {
      "text/plain": [
       "Index(['AAPL', 'AMZN', 'BND', 'GDX', 'GLD', 'GM', 'MSFT', 'SLV', 'SPY', 'USM',\n",
       "       'STD-YM', 'pAAPL', 'rAAPL', 'pAMZN', 'rAMZN', 'pBND', 'rBND', 'pGDX',\n",
       "       'rGDX', 'pGLD', 'rGLD', 'pGM', 'rGM', 'pMSFT', 'rMSFT', 'pSLV', 'rSLV',\n",
       "       'pSPY', 'rSPY', 'pUSM', 'rUSM'],\n",
       "      dtype='object', name='CODE')"
      ]
     },
     "execution_count": 136,
     "metadata": {},
     "output_type": "execute_result"
    }
   ],
   "source": [
    "book.columns"
   ]
  },
  {
   "cell_type": "code",
   "execution_count": 137,
   "metadata": {},
   "outputs": [],
   "source": [
    "# 세번째 함수 \n",
    "def trading(book, s_code):\n",
    "    std_ym = ''\n",
    "    buy_phase = False\n",
    "\n",
    "    # 종목별 순회 \n",
    "    for code in s_code:\n",
    "        for i in book.index:\n",
    "            # 해당 종목코드 포지션을 잡아준다.\n",
    "            if (book.loc[i, 'p'+code] == '') & \\\n",
    "                  (book.shift(1).loc[i, 'p'+code] == 'ready'+code):\n",
    "                std_ym = book.loc[i, 'STD-YM']\n",
    "                buy_phase = True\n",
    "            # 해당 종목코드에서 신호가 잡혀있다면 매수 상태를 유지 \n",
    "            if (book.loc[i, 'p'+code] == '') & \\\n",
    "                (book.loc[i, 'STD-YM'] == std_ym) & \\\n",
    "                (buy_phase):\n",
    "                book.loc[i, 'p'+code] = 'buy'+code\n",
    "\n",
    "            # std_ym, buy_phase 초기화\n",
    "            if book.loc[i, 'p'+code] == '':\n",
    "                std_ym = None\n",
    "                buy_phase = False\n",
    "    return book\n"
   ]
  },
  {
   "cell_type": "code",
   "execution_count": 138,
   "metadata": {},
   "outputs": [
    {
     "data": {
      "text/plain": [
       "dict_items([(Timestamp('2010-01-29 00:00:00'), ['BND']), (Timestamp('2010-02-26 00:00:00'), ['AAPL']), (Timestamp('2010-03-31 00:00:00'), ['AAPL']), (Timestamp('2010-04-30 00:00:00'), ['AAPL']), (Timestamp('2010-05-28 00:00:00'), ['GLD']), (Timestamp('2010-06-30 00:00:00'), ['GDX']), (Timestamp('2010-07-30 00:00:00'), ['USM']), (Timestamp('2010-08-31 00:00:00'), ['GDX']), (Timestamp('2010-09-30 00:00:00'), ['AMZN']), (Timestamp('2010-10-29 00:00:00'), ['SLV']), (Timestamp('2010-11-30 00:00:00'), ['SLV']), (Timestamp('2010-12-31 00:00:00'), ['SLV']), (Timestamp('2011-01-31 00:00:00'), ['AAPL']), (Timestamp('2011-02-28 00:00:00'), ['SLV']), (Timestamp('2011-03-31 00:00:00'), ['SLV']), (Timestamp('2011-04-29 00:00:00'), ['SLV']), (Timestamp('2011-05-31 00:00:00'), ['BND']), (Timestamp('2011-06-30 00:00:00'), ['MSFT']), (Timestamp('2011-07-29 00:00:00'), ['SLV']), (Timestamp('2011-08-31 00:00:00'), ['GLD']), (Timestamp('2011-09-30 00:00:00'), ['AMZN']), (Timestamp('2011-10-31 00:00:00'), ['GM']), (Timestamp('2011-11-30 00:00:00'), ['USM']), (Timestamp('2011-12-30 00:00:00'), ['AAPL']), (Timestamp('2012-01-31 00:00:00'), ['GM']), (Timestamp('2012-02-29 00:00:00'), ['AAPL']), (Timestamp('2012-03-30 00:00:00'), ['AMZN']), (Timestamp('2012-04-30 00:00:00'), ['AMZN']), (Timestamp('2012-05-31 00:00:00'), ['BND']), (Timestamp('2012-06-29 00:00:00'), ['AMZN']), (Timestamp('2012-07-31 00:00:00'), ['AAPL']), (Timestamp('2012-08-31 00:00:00'), ['SLV']), (Timestamp('2012-09-28 00:00:00'), ['GDX']), (Timestamp('2012-10-31 00:00:00'), ['GM']), (Timestamp('2012-11-30 00:00:00'), ['AMZN']), (Timestamp('2012-12-31 00:00:00'), ['GM']), (Timestamp('2013-01-31 00:00:00'), ['USM']), (Timestamp('2013-02-28 00:00:00'), ['BND']), (Timestamp('2013-03-28 00:00:00'), ['SPY']), (Timestamp('2013-04-30 00:00:00'), ['MSFT']), (Timestamp('2013-05-31 00:00:00'), ['GM']), (Timestamp('2013-06-28 00:00:00'), ['USM']), (Timestamp('2013-07-31 00:00:00'), ['USM']), (Timestamp('2013-08-30 00:00:00'), ['SLV']), (Timestamp('2013-09-30 00:00:00'), ['AMZN']), (Timestamp('2013-10-31 00:00:00'), ['AMZN']), (Timestamp('2013-11-29 00:00:00'), ['AMZN']), (Timestamp('2013-12-31 00:00:00'), ['GM']), (Timestamp('2014-01-31 00:00:00'), ['USM']), (Timestamp('2014-02-28 00:00:00'), ['GDX']), (Timestamp('2014-03-31 00:00:00'), ['MSFT']), (Timestamp('2014-04-30 00:00:00'), ['AAPL']), (Timestamp('2014-05-30 00:00:00'), ['AAPL']), (Timestamp('2014-06-30 00:00:00'), ['GDX']), (Timestamp('2014-07-31 00:00:00'), ['MSFT']), (Timestamp('2014-08-29 00:00:00'), ['AMZN']), (Timestamp('2014-09-30 00:00:00'), ['MSFT']), (Timestamp('2014-10-31 00:00:00'), ['AAPL']), (Timestamp('2014-11-28 00:00:00'), ['AMZN']), (Timestamp('2014-12-31 00:00:00'), ['GM']), (Timestamp('2015-01-30 00:00:00'), ['GDX']), (Timestamp('2015-02-27 00:00:00'), ['GM']), (Timestamp('2015-03-31 00:00:00'), ['SLV']), (Timestamp('2015-04-30 00:00:00'), ['MSFT']), (Timestamp('2015-05-29 00:00:00'), ['SLV']), (Timestamp('2015-06-30 00:00:00'), ['AMZN']), (Timestamp('2015-07-31 00:00:00'), ['AMZN']), (Timestamp('2015-08-31 00:00:00'), ['GDX']), (Timestamp('2015-09-30 00:00:00'), ['GM']), (Timestamp('2015-10-30 00:00:00'), ['AMZN']), (Timestamp('2015-11-30 00:00:00'), ['AMZN']), (Timestamp('2015-12-31 00:00:00'), ['MSFT']), (Timestamp('2016-01-29 00:00:00'), ['GLD']), (Timestamp('2016-02-29 00:00:00'), ['GDX']), (Timestamp('2016-03-31 00:00:00'), ['USM']), (Timestamp('2016-04-29 00:00:00'), ['GDX']), (Timestamp('2016-05-31 00:00:00'), ['AAPL']), (Timestamp('2016-06-30 00:00:00'), ['GDX']), (Timestamp('2016-07-29 00:00:00'), ['MSFT']), (Timestamp('2016-08-31 00:00:00'), ['MSFT']), (Timestamp('2016-09-30 00:00:00'), ['AMZN']), (Timestamp('2016-10-31 00:00:00'), ['MSFT']), (Timestamp('2016-11-30 00:00:00'), ['GM']), (Timestamp('2016-12-30 00:00:00'), ['USM']), (Timestamp('2017-01-31 00:00:00'), ['GDX']), (Timestamp('2017-02-28 00:00:00'), ['AAPL']), (Timestamp('2017-03-31 00:00:00'), ['AMZN']), (Timestamp('2017-04-28 00:00:00'), ['USM']), (Timestamp('2017-05-31 00:00:00'), ['AMZN']), (Timestamp('2017-06-30 00:00:00'), ['GM']), (Timestamp('2017-07-31 00:00:00'), ['MSFT']), (Timestamp('2017-08-31 00:00:00'), ['AAPL']), (Timestamp('2017-09-29 00:00:00'), ['GM']), (Timestamp('2017-10-31 00:00:00'), ['AMZN']), (Timestamp('2017-11-30 00:00:00'), ['AMZN']), (Timestamp('2017-12-29 00:00:00'), ['GDX']), (Timestamp('2018-01-31 00:00:00'), ['AMZN']), (Timestamp('2018-02-28 00:00:00'), ['AMZN']), (Timestamp('2018-03-29 00:00:00'), ['GDX']), (Timestamp('2018-04-30 00:00:00'), ['AMZN']), (Timestamp('2018-05-31 00:00:00'), ['GM']), (Timestamp('2018-06-29 00:00:00'), ['AMZN']), (Timestamp('2018-07-31 00:00:00'), ['MSFT']), (Timestamp('2018-08-31 00:00:00'), ['USM']), (Timestamp('2018-09-28 00:00:00'), ['USM']), (Timestamp('2018-10-31 00:00:00'), ['USM']), (Timestamp('2018-11-30 00:00:00'), ['USM']), (Timestamp('2018-12-31 00:00:00'), ['GDX']), (Timestamp('2019-01-31 00:00:00'), ['GM']), (Timestamp('2019-02-28 00:00:00'), ['MSFT']), (Timestamp('2019-03-29 00:00:00'), ['AAPL']), (Timestamp('2019-04-30 00:00:00'), ['MSFT']), (Timestamp('2019-05-31 00:00:00'), ['GDX']), (Timestamp('2019-06-24 00:00:00'), ['MSFT'])])"
      ]
     },
     "execution_count": 138,
     "metadata": {},
     "output_type": "execute_result"
    }
   ],
   "source": [
    "sig_dict.items()"
   ]
  },
  {
   "cell_type": "code",
   "execution_count": 139,
   "metadata": {},
   "outputs": [],
   "source": [
    "# 포지션을 잡는 부분 \n",
    "for date, values in sig_dict.items():\n",
    "    for stock in values:\n",
    "        book.loc[date, 'p'+stock] = 'ready'+stock"
   ]
  },
  {
   "cell_type": "code",
   "execution_count": 140,
   "metadata": {},
   "outputs": [
    {
     "ename": "UnboundLocalError",
     "evalue": "cannot access local variable 'std_ym' where it is not associated with a value",
     "output_type": "error",
     "traceback": [
      "\u001b[1;31m---------------------------------------------------------------------------\u001b[0m",
      "\u001b[1;31mUnboundLocalError\u001b[0m                         Traceback (most recent call last)",
      "\u001b[1;32mc:\\Users\\moons\\Documents\\GitHub\\ubion_9\\python\\231206\\02_momentum2.ipynb Cell 42\u001b[0m line \u001b[0;36m1\n\u001b[1;32m----> <a href='vscode-notebook-cell:/c%3A/Users/moons/Documents/GitHub/ubion_9/python/231206/02_momentum2.ipynb#X56sZmlsZQ%3D%3D?line=0'>1</a>\u001b[0m book \u001b[39m=\u001b[39m trading(book, stock_codes)\n\u001b[0;32m      <a href='vscode-notebook-cell:/c%3A/Users/moons/Documents/GitHub/ubion_9/python/231206/02_momentum2.ipynb#X56sZmlsZQ%3D%3D?line=2'>3</a>\u001b[0m book\u001b[39m.\u001b[39mhead()\n",
      "\u001b[1;32mc:\\Users\\moons\\Documents\\GitHub\\ubion_9\\python\\231206\\02_momentum2.ipynb Cell 42\u001b[0m line \u001b[0;36m1\n\u001b[0;32m     <a href='vscode-notebook-cell:/c%3A/Users/moons/Documents/GitHub/ubion_9/python/231206/02_momentum2.ipynb#X56sZmlsZQ%3D%3D?line=11'>12</a>\u001b[0m     buy_phase \u001b[39m=\u001b[39m \u001b[39mTrue\u001b[39;00m\n\u001b[0;32m     <a href='vscode-notebook-cell:/c%3A/Users/moons/Documents/GitHub/ubion_9/python/231206/02_momentum2.ipynb#X56sZmlsZQ%3D%3D?line=12'>13</a>\u001b[0m \u001b[39m# 해당 종목코드에서 신호가 잡혀있다면 매수 상태를 유지 \u001b[39;00m\n\u001b[0;32m     <a href='vscode-notebook-cell:/c%3A/Users/moons/Documents/GitHub/ubion_9/python/231206/02_momentum2.ipynb#X56sZmlsZQ%3D%3D?line=13'>14</a>\u001b[0m \u001b[39mif\u001b[39;00m (book\u001b[39m.\u001b[39mloc[i, \u001b[39m'\u001b[39m\u001b[39mp\u001b[39m\u001b[39m'\u001b[39m\u001b[39m+\u001b[39mcode] \u001b[39m==\u001b[39m \u001b[39m'\u001b[39m\u001b[39m'\u001b[39m) \u001b[39m&\u001b[39m \\\n\u001b[1;32m---> <a href='vscode-notebook-cell:/c%3A/Users/moons/Documents/GitHub/ubion_9/python/231206/02_momentum2.ipynb#X56sZmlsZQ%3D%3D?line=14'>15</a>\u001b[0m     (book\u001b[39m.\u001b[39mloc[i, \u001b[39m'\u001b[39m\u001b[39mSTD-YM\u001b[39m\u001b[39m'\u001b[39m] \u001b[39m==\u001b[39m std_ym) \u001b[39m&\u001b[39m \\\n\u001b[0;32m     <a href='vscode-notebook-cell:/c%3A/Users/moons/Documents/GitHub/ubion_9/python/231206/02_momentum2.ipynb#X56sZmlsZQ%3D%3D?line=15'>16</a>\u001b[0m     (buy_phase):\n\u001b[0;32m     <a href='vscode-notebook-cell:/c%3A/Users/moons/Documents/GitHub/ubion_9/python/231206/02_momentum2.ipynb#X56sZmlsZQ%3D%3D?line=16'>17</a>\u001b[0m     book\u001b[39m.\u001b[39mloc[i, \u001b[39m'\u001b[39m\u001b[39mp\u001b[39m\u001b[39m'\u001b[39m\u001b[39m+\u001b[39mcode] \u001b[39m=\u001b[39m \u001b[39m'\u001b[39m\u001b[39mbuy\u001b[39m\u001b[39m'\u001b[39m\u001b[39m+\u001b[39mcode\n\u001b[0;32m     <a href='vscode-notebook-cell:/c%3A/Users/moons/Documents/GitHub/ubion_9/python/231206/02_momentum2.ipynb#X56sZmlsZQ%3D%3D?line=18'>19</a>\u001b[0m \u001b[39m# std_ym, buy_phase 초기화\u001b[39;00m\n",
      "\u001b[1;31mUnboundLocalError\u001b[0m: cannot access local variable 'std_ym' where it is not associated with a value"
     ]
    }
   ],
   "source": [
    "book = trading(book, stock_codes)\n",
    "\n",
    "book.head()"
   ]
  }
 ],
 "metadata": {
  "kernelspec": {
   "display_name": "Python 3",
   "language": "python",
   "name": "python3"
  },
  "language_info": {
   "codemirror_mode": {
    "name": "ipython",
    "version": 3
   },
   "file_extension": ".py",
   "mimetype": "text/x-python",
   "name": "python",
   "nbconvert_exporter": "python",
   "pygments_lexer": "ipython3",
   "version": "3.11.1"
  }
 },
 "nbformat": 4,
 "nbformat_minor": 2
}
